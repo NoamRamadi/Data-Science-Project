{
 "cells": [
  {
   "cell_type": "markdown",
   "id": "d6194a83",
   "metadata": {},
   "source": [
    "    Data Science Project"
   ]
  },
  {
   "cell_type": "code",
   "execution_count": 347,
   "id": "c148d785",
   "metadata": {},
   "outputs": [],
   "source": [
    " #=== CELL TYPE: IMPORTS AND SETUP \n",
    "import json\n",
    "import bs4\n",
    "from bs4 import BeautifulSoup  \n",
    "import pandas as pd\n",
    "import scipy as sc\n",
    "import requests\n",
    "from selenium import webdriver\n",
    "import time\n",
    "import re"
   ]
  },
  {
   "cell_type": "code",
   "execution_count": 348,
   "id": "ea531ab6",
   "metadata": {},
   "outputs": [],
   "source": [
    "import numpy as np\n",
    "import matplotlib as mpl\n",
    "import matplotlib.pyplot as plt      \n",
    "import math\n",
    "import seaborn as sns\n",
    "from collections import Counter\n",
    "from sklearn.decomposition import PCA\n",
    "%matplotlib inline"
   ]
  },
  {
   "cell_type": "code",
   "execution_count": 349,
   "id": "949087ef",
   "metadata": {},
   "outputs": [],
   "source": [
    "import sklearn\n",
    "from sklearn import linear_model, metrics, preprocessing\n",
    "from sklearn.preprocessing import StandardScaler, MinMaxScaler\n",
    "from sklearn.linear_model import LogisticRegression, LinearRegression\n",
    "from sklearn.metrics import r2_score, f1_score"
   ]
  },
  {
   "cell_type": "markdown",
   "id": "008ec78f",
   "metadata": {},
   "source": [
    "## Load the Data\n",
    "### We need to install two packages:\n",
    "###    1)chrome driver https://chromedriver.chromium.org/downloads\n",
    "###    2)selenium - pip install selenium (run from CMD)"
   ]
  },
  {
   "cell_type": "code",
   "execution_count": 283,
   "id": "7814c926",
   "metadata": {},
   "outputs": [],
   "source": [
    "def load_url_to_webdriver(url):\n",
    "    from selenium.webdriver.chrome.options import Options\n",
    "    from selenium import webdriver\n",
    "    Options = Options()\n",
    "    Options.headless = True\n",
    "    webdriver = webdriver.Chrome(options=Options)\n",
    "    webdriver.get(url)\n",
    "    time.sleep(2)\n",
    "    #print(type(webdriver))\n",
    "    return webdriver"
   ]
  },
  {
   "cell_type": "code",
   "execution_count": 284,
   "id": "41aedb22",
   "metadata": {},
   "outputs": [],
   "source": [
    "def load_soup_object(response):    \n",
    "    soup1 = BeautifulSoup(response, \"html.parser\")\n",
    "    return soup1"
   ]
  },
  {
   "cell_type": "code",
   "execution_count": 83,
   "id": "3c6060a7",
   "metadata": {},
   "outputs": [],
   "source": [
    "def filter_link_of_genres(soup_html):\n",
    "    genre_list=soup_html.find_all(\"a\",attrs={\"class\":\"genre-image\"})\n",
    "    str_genre_list = str(genre_list)\n",
    "    str_genre_list = str_genre_list.split()\n",
    "    new=[]\n",
    "    new1=[]\n",
    "    for word in str_genre_list:\n",
    "        if not \"href\" in word:\n",
    "            str_genre_list.remove(word)\n",
    "\n",
    "    for word in str_genre_list:    \n",
    "        new.append(word[6:len(word)-6])     \n",
    "    for word in new:\n",
    "        if not \"http\" in word:\n",
    "            new.remove(word)\n",
    "    for word in new:\n",
    "        if \"http\" in word:\n",
    "            new1.append(word)    \n",
    "\n",
    "    #for i in range(len(new1)):\n",
    "     #   print(new1[i] ,i)  \n",
    "\n",
    "    return new1  "
   ]
  },
  {
   "cell_type": "code",
   "execution_count": null,
   "id": "c8d3b0ef",
   "metadata": {},
   "outputs": [],
   "source": [
    "#Because the website is JS and not pure HTML we had to use selenium to read the data as HTML instead of JS\n",
    "#selenium_webdriver hold the html page as Selenium object\n",
    "#soup_html hold the html page as BeautifulSoup object\n",
    "\n",
    "url = 'https://www.allmusic.com/genres'\n",
    "selenium_webdriver=load_url_to_webdriver(url)\n",
    "soup_html = load_soup_object(selenium_webdriver.page_source)\n",
    "genre_list= filter_link_of_genres(soup_html)"
   ]
  },
  {
   "cell_type": "code",
   "execution_count": null,
   "id": "57d9d594",
   "metadata": {},
   "outputs": [],
   "source": [
    "#Creating a list of urls of the artists in every genre\n",
    "artists_in_genre_list=[]\n",
    "for link in genre_list:\n",
    "    artists_in_genre_list.append(link + '/artists')\n",
    "for i in range(len(artists_in_genre_list)):\n",
    "        print(artists_in_genre_list[i] ,i)  "
   ]
  },
  {
   "cell_type": "code",
   "execution_count": null,
   "id": "c75b5522",
   "metadata": {},
   "outputs": [],
   "source": [
    "#Loading the url for research\n",
    "artist_url_list=[]\n",
    "for t in range (len(artists_in_genre_list)):\n",
    "    url = artists_in_genre_list[t]\n",
    "    selenium_webdriver=load_url_to_webdriver(url)\n",
    "    soup_html = load_soup_object(selenium_webdriver.page_source)\n",
    "    genre_list=soup_html.findAll(\"div\",attrs={\"class\":\"artist-highlight info-grid\"}) \n",
    "    temp_list=[]\n",
    "    temp_list=str(genre_list)\n",
    "    temp_list=temp_list.split('\"')\n",
    "    for i in range (len(temp_list)):\n",
    "        if '/artist/' in temp_list[i]:\n",
    "            artist_url_to_add=temp_list[i]\n",
    "            artist_url_list.append(\"https://www.allmusic.com\" + artist_url_to_add + \"/songs\")\n",
    "        "
   ]
  },
  {
   "cell_type": "code",
   "execution_count": null,
   "id": "5540260c",
   "metadata": {},
   "outputs": [],
   "source": [
    "#Creating a big list of all the artists\n",
    "\n",
    "\n",
    "\n",
    "\n",
    "    "
   ]
  },
  {
   "cell_type": "code",
   "execution_count": null,
   "id": "40a7a8ca",
   "metadata": {},
   "outputs": [],
   "source": [
    "print(artist_url_list)"
   ]
  },
  {
   "cell_type": "code",
   "execution_count": null,
   "id": "a0bd1629",
   "metadata": {},
   "outputs": [],
   "source": [
    "data={'song':[],'artist':[],'release_year':[],'composed':[],'genre':[],'appearances':[],'also_performed_by':[],'rating':[],}\n",
    "df=pd.DataFrame(data)"
   ]
  },
  {
   "cell_type": "markdown",
   "id": "9144f99f",
   "metadata": {},
   "source": [
    "# Creating a list of all the songs\n",
    "    \n",
    "    artist_highlights_songs_list - containt all songs"
   ]
  },
  {
   "cell_type": "code",
   "execution_count": null,
   "id": "49dda58a",
   "metadata": {},
   "outputs": [],
   "source": [
    "artist_highlights_songs_list=[]\n",
    "j=0\n",
    "for artistIndex in artist_url_list:\n",
    "    \n",
    "    url=artistIndex\n",
    "    selenium_webdriver=load_url_to_webdriver(url)\n",
    "    soup_html = load_soup_object(selenium_webdriver.page_source)\n",
    "    song_of_artist=soup_html.findAll(\"div\",attrs={\"class\":\"title\"})\n",
    "    \n",
    "    for i in range(len(song_of_artist)):\n",
    "        link_of_song=[t['href'] for t in song_of_artist[i].findAll(\"a\")]\n",
    "        if len(link_of_song) != 0:\n",
    "            artist_highlights_songs_list.append(link_of_song[0])\n",
    "            print(artist_highlights_songs_list ,\"\\n\\n\\n\")\n",
    "               \n",
    "        "
   ]
  },
  {
   "cell_type": "code",
   "execution_count": null,
   "id": "a8914554",
   "metadata": {},
   "outputs": [],
   "source": [
    "for song in artist_highlights_songs_list:\n",
    "    print(song)"
   ]
  },
  {
   "cell_type": "code",
   "execution_count": null,
   "id": "bbb38eb3",
   "metadata": {},
   "outputs": [],
   "source": [
    "print(len(artist_highlights_songs_list))"
   ]
  },
  {
   "cell_type": "markdown",
   "id": "aeb5408e",
   "metadata": {},
   "source": [
    "## In this section we will take each song from \"artist_highlights_songs_list\"\n",
    "## identify and store each parameter into the data dictionary"
   ]
  },
  {
   "cell_type": "code",
   "execution_count": null,
   "id": "94d9eac0",
   "metadata": {},
   "outputs": [],
   "source": [
    "for song in artist_highlights_songs_list:\n",
    "    url=song\n",
    "    selenium_webdriver=load_url_to_webdriver(url)\n",
    "    soup_html = load_soup_object(selenium_webdriver.page_source)\n",
    "    url2=url+\"/also-performed-by\"\n",
    "    selenium_webdriver2=load_url_to_webdriver(url2)\n",
    "    soup_html2 = load_soup_object(selenium_webdriver2.page_source)\n",
    "    performed_by_string=str(soup_html2.findAll(\"td\",attrs={\"class\":\"artist\"}))\n",
    "    #we added release year, composed by, genre of song, \n",
    "    #need to add more columns data like appearances of a song and then generalize the code and add it to dataframe\n",
    "    song_name=\"None\"\n",
    "    artist_name=\"None\"\n",
    "    release_year=0\n",
    "    genre_of_song=\"None\"\n",
    "    appearances_counter=0\n",
    "    also_performed_by_counter=0\n",
    "    rating= 0\n",
    "    list_of_rates=[]\n",
    "\n",
    "    if isinstance(soup_html.find(\"h2\",attrs={\"class\":\"song-artist\"}),bs4.element.Tag):\n",
    "        artist_name=soup_html.find(\"h2\",attrs={\"class\":\"song-artist\"}).get_text()\n",
    "    artist_name = artist_name.strip('\\n')\n",
    "    artist_name = artist_name.strip(' ')\n",
    "    data['artist'].append(artist_name)\n",
    "    print(\"Artist name= \",artist_name)\n",
    "\n",
    "    if isinstance(soup_html.find(\"h1\",attrs={\"class\":\"song-title\"}),bs4.element.Tag):\n",
    "        song_name=soup_html.find(\"h1\",attrs={\"class\":\"song-title\"}).get_text()\n",
    "    song_name = song_name.strip('\\n')\n",
    "    song_name = song_name.strip(' ')\n",
    "    data['song'].append(song_name)\n",
    "    print(\"Song name= \",song_name)\n",
    "\n",
    "    if isinstance(soup_html.find(\"p\",attrs={\"class\":\"song-release-year-text\"}),bs4.element.Tag):\n",
    "        release_year=soup_html.find(\"p\",attrs={\"class\":\"song-release-year-text\"}).get_text()\n",
    "    data['release_year'].append(release_year)\n",
    "    print(\"release year= \",release_year)\n",
    "\n",
    "\n",
    "    if isinstance(soup_html.find(\"p\",attrs={\"class\":\"song-composer\"}),bs4.element.Tag):\n",
    "        composed_by=soup_html.find(\"p\",attrs={\"class\":\"song-composer\"}).get_text()\n",
    "    data['composed'].append(composed_by)\n",
    "    print(\"composed by= \",composed_by)\n",
    "\n",
    "\n",
    "    if isinstance(soup_html.find(\"div\",attrs={\"class\":\"middle\"}),bs4.element.Tag):\n",
    "        genre_of_song=soup_html.find(\"div\",attrs={\"class\":\"middle\"}).get_text()\n",
    "        genre_of_song = genre_of_song.strip('\\n')\n",
    "        genre_of_song = genre_of_song.split(' ')\n",
    "        genre_of_song= genre_of_song[0]\n",
    "    data['genre'].append(genre_of_song)\n",
    "    print(\"genre of song= \",genre_of_song)\n",
    "\n",
    "    appearances=str(soup_html.findAll(\"td\",attrs={\"class\":\"cover\"}))\n",
    "    temp_list=appearances.split(\"td class=\")\n",
    "    for i in range (len(temp_list)):\n",
    "        if 'cover' in temp_list[i]:\n",
    "            appearances_counter=appearances_counter+1\n",
    "    data['appearances'].append(appearances_counter)        \n",
    "    print(\"appearances counter= \",appearances_counter)\n",
    "\n",
    "    also_performed_by_counter=soup_html2.find(\"section\",attrs={\"class\":\"performed_by\"})\n",
    "    also_performed_by_counter=soup_html2.find_all(\"td\",attrs={\"class\":\"artist\"})\n",
    "    also_performed_by_counter=len(also_performed_by_counter)\n",
    "    data['also_performed_by'].append(also_performed_by_counter) \n",
    "    print(\"also performed by counter= \",also_performed_by_counter)\n",
    "\n",
    "\n",
    "    rating_str=str(soup_html.select(\"div[class*=allmusic-rating]\"))\n",
    "    rating_str=re.findall('\\d+', rating_str)\n",
    "    for x in rating_str:\n",
    "        x=int(x)\n",
    "    for rate in rating_str:\n",
    "         if int(rate)>0 and int(rate)<11:\n",
    "            rate=int(rate)+1\n",
    "            list_of_rates.append(rate)\n",
    "    if list_of_rates:\n",
    "        rating_avg=sum(list_of_rates)/len(list_of_rates)/2\n",
    "    else:\n",
    "        rating_avg='None'\n",
    "    data['rating'].append(rating_avg) \n",
    "    print(\"Average rating is= \",rating_avg)\n",
    "    print('****************************************************\\n\\n\\n\\n\\n\\n\\n')\n"
   ]
  },
  {
   "cell_type": "code",
   "execution_count": null,
   "id": "309f684b",
   "metadata": {},
   "outputs": [],
   "source": [
    "df=pd.DataFrame(data)"
   ]
  },
  {
   "cell_type": "code",
   "execution_count": null,
   "id": "df2aa7d6",
   "metadata": {},
   "outputs": [],
   "source": [
    "df.to_csv(\"songs.csv\")"
   ]
  },
  {
   "cell_type": "markdown",
   "id": "42993a2a",
   "metadata": {},
   "source": [
    "### Untill now we collected all the data."
   ]
  },
  {
   "cell_type": "markdown",
   "id": "a8c72af1",
   "metadata": {},
   "source": [
    "### The following chapter will clean the data and then visualization"
   ]
  },
  {
   "cell_type": "markdown",
   "id": "0884bfc6",
   "metadata": {},
   "source": [
    "# Run From Here"
   ]
  },
  {
   "cell_type": "code",
   "execution_count": 397,
   "id": "9d80fa07",
   "metadata": {},
   "outputs": [],
   "source": [
    "df = pd.read_csv(\"all_songs.csv\", index_col=False)"
   ]
  },
  {
   "cell_type": "markdown",
   "id": "0fdb06c8",
   "metadata": {},
   "source": [
    "## we replaec all the python's 'None' and 'Unknown' with pandas NaN"
   ]
  },
  {
   "cell_type": "code",
   "execution_count": 398,
   "id": "860b1f68",
   "metadata": {},
   "outputs": [
    {
     "data": {
      "text/html": [
       "<div>\n",
       "<style scoped>\n",
       "    .dataframe tbody tr th:only-of-type {\n",
       "        vertical-align: middle;\n",
       "    }\n",
       "\n",
       "    .dataframe tbody tr th {\n",
       "        vertical-align: top;\n",
       "    }\n",
       "\n",
       "    .dataframe thead th {\n",
       "        text-align: right;\n",
       "    }\n",
       "</style>\n",
       "<table border=\"1\" class=\"dataframe\">\n",
       "  <thead>\n",
       "    <tr style=\"text-align: right;\">\n",
       "      <th></th>\n",
       "      <th>song</th>\n",
       "      <th>artist</th>\n",
       "      <th>release_year</th>\n",
       "      <th>composed</th>\n",
       "      <th>genre</th>\n",
       "      <th>appearances</th>\n",
       "      <th>also_performed_by</th>\n",
       "      <th>rating</th>\n",
       "    </tr>\n",
       "  </thead>\n",
       "  <tbody>\n",
       "    <tr>\n",
       "      <th>0</th>\n",
       "      <td>ono</td>\n",
       "      <td>Dan the Automator</td>\n",
       "      <td>1996</td>\n",
       "      <td>Dan Nakamura</td>\n",
       "      <td>None</td>\n",
       "      <td>2</td>\n",
       "      <td>0</td>\n",
       "      <td>4</td>\n",
       "    </tr>\n",
       "    <tr>\n",
       "      <th>1</th>\n",
       "      <td>(Listen to The) Flower People</td>\n",
       "      <td>Spinal Tap</td>\n",
       "      <td>1984</td>\n",
       "      <td>Christopher Guest</td>\n",
       "      <td>Pop/Rock</td>\n",
       "      <td>1</td>\n",
       "      <td>100</td>\n",
       "      <td>4.575</td>\n",
       "    </tr>\n",
       "    <tr>\n",
       "      <th>2</th>\n",
       "      <td>Have Yourself a Merry Little Christmas</td>\n",
       "      <td>Judy Garland</td>\n",
       "      <td>1944</td>\n",
       "      <td>Ralph Blane</td>\n",
       "      <td>Jazz</td>\n",
       "      <td>140</td>\n",
       "      <td>1295</td>\n",
       "      <td>3.748717949</td>\n",
       "    </tr>\n",
       "    <tr>\n",
       "      <th>3</th>\n",
       "      <td>A Dying Cub Fan's Last Request</td>\n",
       "      <td>Steve Goodman</td>\n",
       "      <td>1984</td>\n",
       "      <td>Steve Goodman</td>\n",
       "      <td>Pop/Rock</td>\n",
       "      <td>3</td>\n",
       "      <td>200</td>\n",
       "      <td>4.5</td>\n",
       "    </tr>\n",
       "    <tr>\n",
       "      <th>4</th>\n",
       "      <td>\"A Place For My Stuff\"</td>\n",
       "      <td>George Carlin</td>\n",
       "      <td>1981</td>\n",
       "      <td>George Carlin</td>\n",
       "      <td>None</td>\n",
       "      <td>1</td>\n",
       "      <td>0</td>\n",
       "      <td>4</td>\n",
       "    </tr>\n",
       "    <tr>\n",
       "      <th>...</th>\n",
       "      <td>...</td>\n",
       "      <td>...</td>\n",
       "      <td>...</td>\n",
       "      <td>...</td>\n",
       "      <td>...</td>\n",
       "      <td>...</td>\n",
       "      <td>...</td>\n",
       "      <td>...</td>\n",
       "    </tr>\n",
       "    <tr>\n",
       "      <th>7765</th>\n",
       "      <td>Zorba the Greek</td>\n",
       "      <td>Herb Alpert</td>\n",
       "      <td>1970</td>\n",
       "      <td>John Kander</td>\n",
       "      <td>Easy</td>\n",
       "      <td>4</td>\n",
       "      <td>3</td>\n",
       "      <td>4.25</td>\n",
       "    </tr>\n",
       "    <tr>\n",
       "      <th>7766</th>\n",
       "      <td>Zulu Laduma (Voices Like Thunder)</td>\n",
       "      <td>Ladysmith Black Mambazo</td>\n",
       "      <td>2011</td>\n",
       "      <td>Russel Mthembu</td>\n",
       "      <td>None</td>\n",
       "      <td>1</td>\n",
       "      <td>0</td>\n",
       "      <td>3.5</td>\n",
       "    </tr>\n",
       "    <tr>\n",
       "      <th>7767</th>\n",
       "      <td>Zulu Laduma (Voices Like Thunder)</td>\n",
       "      <td>Ladysmith Black Mambazo</td>\n",
       "      <td>2011</td>\n",
       "      <td>Russel Mthembu</td>\n",
       "      <td>None</td>\n",
       "      <td>1</td>\n",
       "      <td>0</td>\n",
       "      <td>3.5</td>\n",
       "    </tr>\n",
       "    <tr>\n",
       "      <th>7768</th>\n",
       "      <td>Zydeco Gris Gris</td>\n",
       "      <td>BeauSoleil / Michael Doucet</td>\n",
       "      <td>2009</td>\n",
       "      <td>Michael Doucet</td>\n",
       "      <td>None</td>\n",
       "      <td>1</td>\n",
       "      <td>0</td>\n",
       "      <td>3.5</td>\n",
       "    </tr>\n",
       "    <tr>\n",
       "      <th>7769</th>\n",
       "      <td>Zydeco Gris-Gris</td>\n",
       "      <td>Michael Doucet</td>\n",
       "      <td>1991</td>\n",
       "      <td>Leo Kottke</td>\n",
       "      <td>International</td>\n",
       "      <td>3</td>\n",
       "      <td>0</td>\n",
       "      <td>3.833333333</td>\n",
       "    </tr>\n",
       "  </tbody>\n",
       "</table>\n",
       "<p>7770 rows × 8 columns</p>\n",
       "</div>"
      ],
      "text/plain": [
       "                                        song                       artist  \\\n",
       "0                                        ono            Dan the Automator   \n",
       "1              (Listen to The) Flower People                   Spinal Tap   \n",
       "2     Have Yourself a Merry Little Christmas                 Judy Garland   \n",
       "3             A Dying Cub Fan's Last Request                Steve Goodman   \n",
       "4                     \"A Place For My Stuff\"                George Carlin   \n",
       "...                                      ...                          ...   \n",
       "7765                         Zorba the Greek                  Herb Alpert   \n",
       "7766       Zulu Laduma (Voices Like Thunder)      Ladysmith Black Mambazo   \n",
       "7767       Zulu Laduma (Voices Like Thunder)      Ladysmith Black Mambazo   \n",
       "7768                        Zydeco Gris Gris  BeauSoleil / Michael Doucet   \n",
       "7769                        Zydeco Gris-Gris               Michael Doucet   \n",
       "\n",
       "     release_year           composed          genre  appearances  \\\n",
       "0            1996       Dan Nakamura           None            2   \n",
       "1            1984  Christopher Guest       Pop/Rock            1   \n",
       "2            1944        Ralph Blane           Jazz          140   \n",
       "3            1984      Steve Goodman       Pop/Rock            3   \n",
       "4            1981      George Carlin           None            1   \n",
       "...           ...                ...            ...          ...   \n",
       "7765         1970        John Kander           Easy            4   \n",
       "7766         2011     Russel Mthembu           None            1   \n",
       "7767         2011     Russel Mthembu           None            1   \n",
       "7768         2009     Michael Doucet           None            1   \n",
       "7769         1991         Leo Kottke  International            3   \n",
       "\n",
       "      also_performed_by       rating  \n",
       "0                     0            4  \n",
       "1                   100        4.575  \n",
       "2                  1295  3.748717949  \n",
       "3                   200          4.5  \n",
       "4                     0            4  \n",
       "...                 ...          ...  \n",
       "7765                  3         4.25  \n",
       "7766                  0          3.5  \n",
       "7767                  0          3.5  \n",
       "7768                  0          3.5  \n",
       "7769                  0  3.833333333  \n",
       "\n",
       "[7770 rows x 8 columns]"
      ]
     },
     "execution_count": 398,
     "metadata": {},
     "output_type": "execute_result"
    }
   ],
   "source": [
    "df"
   ]
  },
  {
   "cell_type": "markdown",
   "id": "9264df91",
   "metadata": {},
   "source": [
    "## Data Cleaning \n",
    "\n",
    "### The rating column is type 'str'\n",
    "\n",
    "### We convert the type of rating from string to float\n",
    "\n",
    "### We will fill the NaN of rating with the average of rating"
   ]
  },
  {
   "cell_type": "code",
   "execution_count": 399,
   "id": "44e3c584",
   "metadata": {},
   "outputs": [],
   "source": [
    "#This function converts str to float\n",
    "#We will use this function to cast rating into float so we can use the numeric functions on it later\n",
    "def convert_str_to_float(df,column):\n",
    "    numeric_rating = []\n",
    "    for num in df[column]:\n",
    "        numeric_rating.append(float(num))\n",
    "    df2 = df.drop([column], axis=1)\n",
    "    df2=df.assign(rating=numeric_rating)\n",
    "    return df2"
   ]
  },
  {
   "cell_type": "code",
   "execution_count": 400,
   "id": "b6fed3c0",
   "metadata": {},
   "outputs": [],
   "source": [
    "#This function converts str to float\n",
    "#We will use this function to cast release_year into float so we can use the numeric functions on it later\n",
    "def convert_str_to_float2(df,column):\n",
    "    numeric_release_year = []\n",
    "    for num in df[column]:\n",
    "        numeric_release_year.append(float(num))\n",
    "    df2 = df.drop([column], axis=1)\n",
    "    df2=df.assign(release_year=numeric_release_year)\n",
    "    return df2"
   ]
  },
  {
   "cell_type": "code",
   "execution_count": 401,
   "id": "d6cb5642",
   "metadata": {},
   "outputs": [],
   "source": [
    "#This function removes rows from the dataframe if they contain a 'NaN' value\n",
    "def remove_rows_with_NaN(df):\n",
    "    df = df.dropna(axis = 0)\n",
    "    return df"
   ]
  },
  {
   "cell_type": "code",
   "execution_count": 402,
   "id": "510a135e",
   "metadata": {},
   "outputs": [],
   "source": [
    "#This function removes duplicated rows from the dataframe.\n",
    "def remove_duplicated(df):\n",
    "    df = df.drop_duplicates()\n",
    "    return df"
   ]
  },
  {
   "cell_type": "code",
   "execution_count": 403,
   "id": "44866c54",
   "metadata": {},
   "outputs": [],
   "source": [
    "#Some songs have multiple artists, we will only show the MAIN artist\n",
    "def fix_artist_name(df):\n",
    "    for i in range(len(df.artist)):\n",
    "        tempstr=df.artist[i].split('/')\n",
    "        df.iloc[i,2]=tempstr[0]\n",
    "    df =df.reset_index()\n",
    "    del df[\"level_0\"]\n",
    "    del df[\"index\"]\n",
    "    return df"
   ]
  },
  {
   "cell_type": "code",
   "execution_count": 404,
   "id": "218ca77a",
   "metadata": {},
   "outputs": [],
   "source": [
    "df.replace(to_replace=['None'], value=np.nan, inplace=True)\n",
    "df.replace(to_replace=['Unknown'], value=np.nan, inplace=True)"
   ]
  },
  {
   "cell_type": "code",
   "execution_count": 405,
   "id": "5af6df44",
   "metadata": {},
   "outputs": [],
   "source": [
    "df = convert_str_to_float(df,\"rating\")\n",
    "df.rating.fillna(df.rating.mean(),inplace=True)\n",
    "df = convert_str_to_float2(df,\"release_year\")\n"
   ]
  },
  {
   "cell_type": "code",
   "execution_count": 406,
   "id": "bef6e743",
   "metadata": {},
   "outputs": [
    {
     "data": {
      "text/html": [
       "<div>\n",
       "<style scoped>\n",
       "    .dataframe tbody tr th:only-of-type {\n",
       "        vertical-align: middle;\n",
       "    }\n",
       "\n",
       "    .dataframe tbody tr th {\n",
       "        vertical-align: top;\n",
       "    }\n",
       "\n",
       "    .dataframe thead th {\n",
       "        text-align: right;\n",
       "    }\n",
       "</style>\n",
       "<table border=\"1\" class=\"dataframe\">\n",
       "  <thead>\n",
       "    <tr style=\"text-align: right;\">\n",
       "      <th></th>\n",
       "      <th>song</th>\n",
       "      <th>artist</th>\n",
       "      <th>release_year</th>\n",
       "      <th>composed</th>\n",
       "      <th>genre</th>\n",
       "      <th>appearances</th>\n",
       "      <th>also_performed_by</th>\n",
       "      <th>rating</th>\n",
       "    </tr>\n",
       "  </thead>\n",
       "  <tbody>\n",
       "    <tr>\n",
       "      <th>0</th>\n",
       "      <td>(Listen to The) Flower People</td>\n",
       "      <td>Spinal Tap</td>\n",
       "      <td>1984.0</td>\n",
       "      <td>Christopher Guest</td>\n",
       "      <td>Pop/Rock</td>\n",
       "      <td>1</td>\n",
       "      <td>100</td>\n",
       "      <td>4.575000</td>\n",
       "    </tr>\n",
       "    <tr>\n",
       "      <th>1</th>\n",
       "      <td>Have Yourself a Merry Little Christmas</td>\n",
       "      <td>Judy Garland</td>\n",
       "      <td>1944.0</td>\n",
       "      <td>Ralph Blane</td>\n",
       "      <td>Jazz</td>\n",
       "      <td>140</td>\n",
       "      <td>1295</td>\n",
       "      <td>3.748718</td>\n",
       "    </tr>\n",
       "    <tr>\n",
       "      <th>2</th>\n",
       "      <td>A Dying Cub Fan's Last Request</td>\n",
       "      <td>Steve Goodman</td>\n",
       "      <td>1984.0</td>\n",
       "      <td>Steve Goodman</td>\n",
       "      <td>Pop/Rock</td>\n",
       "      <td>3</td>\n",
       "      <td>200</td>\n",
       "      <td>4.500000</td>\n",
       "    </tr>\n",
       "    <tr>\n",
       "      <th>3</th>\n",
       "      <td>Silent Night</td>\n",
       "      <td>Vienna Boys' Choir</td>\n",
       "      <td>1930.0</td>\n",
       "      <td>Franz Gruber</td>\n",
       "      <td>Classical</td>\n",
       "      <td>8</td>\n",
       "      <td>0</td>\n",
       "      <td>1.900000</td>\n",
       "    </tr>\n",
       "    <tr>\n",
       "      <th>4</th>\n",
       "      <td>Amazing Grace</td>\n",
       "      <td>Judy Collins</td>\n",
       "      <td>1970.0</td>\n",
       "      <td>John Newton</td>\n",
       "      <td>Folk</td>\n",
       "      <td>18</td>\n",
       "      <td>0</td>\n",
       "      <td>2.200000</td>\n",
       "    </tr>\n",
       "    <tr>\n",
       "      <th>...</th>\n",
       "      <td>...</td>\n",
       "      <td>...</td>\n",
       "      <td>...</td>\n",
       "      <td>...</td>\n",
       "      <td>...</td>\n",
       "      <td>...</td>\n",
       "      <td>...</td>\n",
       "      <td>...</td>\n",
       "    </tr>\n",
       "    <tr>\n",
       "      <th>3437</th>\n",
       "      <td>Zing Zong</td>\n",
       "      <td>Kanda Bongo Man</td>\n",
       "      <td>1991.0</td>\n",
       "      <td>Kanda Bongo Man</td>\n",
       "      <td>International</td>\n",
       "      <td>4</td>\n",
       "      <td>0</td>\n",
       "      <td>2.875000</td>\n",
       "    </tr>\n",
       "    <tr>\n",
       "      <th>3438</th>\n",
       "      <td>Yoda</td>\n",
       "      <td>Weird Al Yankovic</td>\n",
       "      <td>1985.0</td>\n",
       "      <td>Ray Davies</td>\n",
       "      <td>Comedy/Spoken</td>\n",
       "      <td>6</td>\n",
       "      <td>0</td>\n",
       "      <td>1.900000</td>\n",
       "    </tr>\n",
       "    <tr>\n",
       "      <th>3439</th>\n",
       "      <td>Night and Day</td>\n",
       "      <td>Sergio Mendes</td>\n",
       "      <td>1970.0</td>\n",
       "      <td>Cole Porter</td>\n",
       "      <td>Pop/Rock</td>\n",
       "      <td>9</td>\n",
       "      <td>900</td>\n",
       "      <td>4.500000</td>\n",
       "    </tr>\n",
       "    <tr>\n",
       "      <th>3440</th>\n",
       "      <td>Zorba the Greek</td>\n",
       "      <td>Herb Alpert</td>\n",
       "      <td>1970.0</td>\n",
       "      <td>John Kander</td>\n",
       "      <td>Easy</td>\n",
       "      <td>4</td>\n",
       "      <td>3</td>\n",
       "      <td>4.250000</td>\n",
       "    </tr>\n",
       "    <tr>\n",
       "      <th>3441</th>\n",
       "      <td>Zydeco Gris-Gris</td>\n",
       "      <td>Michael Doucet</td>\n",
       "      <td>1991.0</td>\n",
       "      <td>Leo Kottke</td>\n",
       "      <td>International</td>\n",
       "      <td>3</td>\n",
       "      <td>0</td>\n",
       "      <td>3.833333</td>\n",
       "    </tr>\n",
       "  </tbody>\n",
       "</table>\n",
       "<p>3442 rows × 8 columns</p>\n",
       "</div>"
      ],
      "text/plain": [
       "                                        song              artist  \\\n",
       "0              (Listen to The) Flower People          Spinal Tap   \n",
       "1     Have Yourself a Merry Little Christmas        Judy Garland   \n",
       "2             A Dying Cub Fan's Last Request       Steve Goodman   \n",
       "3                               Silent Night  Vienna Boys' Choir   \n",
       "4                              Amazing Grace        Judy Collins   \n",
       "...                                      ...                 ...   \n",
       "3437                               Zing Zong     Kanda Bongo Man   \n",
       "3438                                    Yoda   Weird Al Yankovic   \n",
       "3439                           Night and Day       Sergio Mendes   \n",
       "3440                         Zorba the Greek         Herb Alpert   \n",
       "3441                        Zydeco Gris-Gris      Michael Doucet   \n",
       "\n",
       "      release_year           composed          genre  appearances  \\\n",
       "0           1984.0  Christopher Guest       Pop/Rock            1   \n",
       "1           1944.0        Ralph Blane           Jazz          140   \n",
       "2           1984.0      Steve Goodman       Pop/Rock            3   \n",
       "3           1930.0       Franz Gruber      Classical            8   \n",
       "4           1970.0        John Newton           Folk           18   \n",
       "...            ...                ...            ...          ...   \n",
       "3437        1991.0    Kanda Bongo Man  International            4   \n",
       "3438        1985.0         Ray Davies  Comedy/Spoken            6   \n",
       "3439        1970.0        Cole Porter       Pop/Rock            9   \n",
       "3440        1970.0        John Kander           Easy            4   \n",
       "3441        1991.0         Leo Kottke  International            3   \n",
       "\n",
       "      also_performed_by    rating  \n",
       "0                   100  4.575000  \n",
       "1                  1295  3.748718  \n",
       "2                   200  4.500000  \n",
       "3                     0  1.900000  \n",
       "4                     0  2.200000  \n",
       "...                 ...       ...  \n",
       "3437                  0  2.875000  \n",
       "3438                  0  1.900000  \n",
       "3439                900  4.500000  \n",
       "3440                  3  4.250000  \n",
       "3441                  0  3.833333  \n",
       "\n",
       "[3442 rows x 8 columns]"
      ]
     },
     "execution_count": 406,
     "metadata": {},
     "output_type": "execute_result"
    }
   ],
   "source": [
    "df = remove_duplicated(df)\n",
    "df = remove_rows_with_NaN(df)\n",
    "df =df.reset_index()\n",
    "df=fix_artist_name(df)\n",
    "df"
   ]
  },
  {
   "cell_type": "markdown",
   "id": "c73ed63c",
   "metadata": {},
   "source": [
    "# Visualition\n",
    "### plot the data"
   ]
  },
  {
   "cell_type": "code",
   "execution_count": 407,
   "id": "b300d370",
   "metadata": {},
   "outputs": [],
   "source": [
    "#This function creates an ascending series of the most frequent elements in the given column\n",
    "#We will use this function to prepare the data which we will later visualize\n",
    "def get_frequent_elements(df, col_name, num_top_elements):\n",
    "    most_freq = df[col_name].value_counts()[:num_top_elements]\n",
    "    series = pd.Series(most_freq).sort_index(ascending=True)\n",
    "    return series"
   ]
  },
  {
   "cell_type": "code",
   "execution_count": 408,
   "id": "9160b3c5",
   "metadata": {},
   "outputs": [],
   "source": [
    "sr_freq_genres = get_frequent_elements(df, 'genre', 11)"
   ]
  },
  {
   "cell_type": "code",
   "execution_count": 409,
   "id": "1c209d08",
   "metadata": {},
   "outputs": [
    {
     "data": {
      "text/plain": [
       "Blues            241\n",
       "Classical        273\n",
       "Comedy/Spoken     99\n",
       "Country          816\n",
       "Easy             225\n",
       "Electronic       176\n",
       "Folk             363\n",
       "International    196\n",
       "Jazz              87\n",
       "Pop/Rock         271\n",
       "R&B               75\n",
       "Name: genre, dtype: int64"
      ]
     },
     "execution_count": 409,
     "metadata": {},
     "output_type": "execute_result"
    }
   ],
   "source": [
    "sr_freq_genres"
   ]
  },
  {
   "cell_type": "code",
   "execution_count": 410,
   "id": "c6bd11e3",
   "metadata": {},
   "outputs": [],
   "source": [
    "def one_dim_plot(sr, plot_type, axis):\n",
    "    sr.plot(kind = plot_type, ax=axis)"
   ]
  },
  {
   "cell_type": "code",
   "execution_count": 411,
   "id": "befa4ade",
   "metadata": {},
   "outputs": [
    {
     "data": {
      "image/png": "[encoded data removed]",
      "text/plain": [
       "<Figure size 1440x360 with 2 Axes>"
      ]
     },
     "metadata": {
      "needs_background": "light"
     },
     "output_type": "display_data"
    }
   ],
   "source": [
    "fig, axes = plt.subplots(1,2, figsize=(20,5))\n",
    "one_dim_plot(sr_freq_genres, 'pie', axes[1])\n",
    "one_dim_plot(sr_freq_genres,'line', axes[0])\n"
   ]
  },
  {
   "cell_type": "code",
   "execution_count": 412,
   "id": "aee77854",
   "metadata": {},
   "outputs": [
    {
     "data": {
      "text/plain": [
       "<AxesSubplot:>"
      ]
     },
     "execution_count": 412,
     "metadata": {},
     "output_type": "execute_result"
    },
    {
     "data": {
      "image/png": "[encoded data removed]",
      "text/plain": [
       "<Figure size 1080x432 with 1 Axes>"
      ]
     },
     "metadata": {
      "needs_background": "light"
     },
     "output_type": "display_data"
    }
   ],
   "source": [
    "plt.rcParams[\"figure.figsize\"] = (15,6)\n",
    "sr_freq_composed = get_frequent_elements(df, 'composed', 15)\n",
    "sr_freq_composed.plot(kind='bar')"
   ]
  },
  {
   "cell_type": "code",
   "execution_count": 413,
   "id": "9a9f3790",
   "metadata": {},
   "outputs": [],
   "source": [
    "def remove_outlier(df_in, col_name):\n",
    "    q1 = df_in[col_name].quantile(0.30)\n",
    "    q3 = df_in[col_name].quantile(0.70)\n",
    "    iqr = q3-q1 #Interquartile range\n",
    "    fence_low  = q1-1.5*iqr\n",
    "    fence_high = q3+1.5*iqr\n",
    "    df_out = df_in.loc[(df_in[col_name] > fence_low) & (df_in[col_name] < fence_high)]\n",
    "    return df_out"
   ]
  },
  {
   "cell_type": "code",
   "execution_count": 424,
   "id": "9ea216d9",
   "metadata": {},
   "outputs": [],
   "source": [
    "#Create sub dataframe that contain the main genres\n",
    "list_to_keep=[]\n",
    "df2 = df.copy()\n",
    "sr_freq_genres = get_frequent_elements(df, 'genre', 11)\n",
    "for k, v in sr_freq_genres.items():\n",
    "    list_to_keep.append(k)   \n",
    "\n",
    "df2= df2[df2['genre'].isin(list_to_keep)]\n",
    "df2 =df2.reset_index()          \n",
    "del df2[\"index\"]"
   ]
  },
  {
   "cell_type": "code",
   "execution_count": 425,
   "id": "cb7d5276",
   "metadata": {},
   "outputs": [
    {
     "data": {
      "text/html": [
       "<div>\n",
       "<style scoped>\n",
       "    .dataframe tbody tr th:only-of-type {\n",
       "        vertical-align: middle;\n",
       "    }\n",
       "\n",
       "    .dataframe tbody tr th {\n",
       "        vertical-align: top;\n",
       "    }\n",
       "\n",
       "    .dataframe thead th {\n",
       "        text-align: right;\n",
       "    }\n",
       "</style>\n",
       "<table border=\"1\" class=\"dataframe\">\n",
       "  <thead>\n",
       "    <tr style=\"text-align: right;\">\n",
       "      <th></th>\n",
       "      <th>song</th>\n",
       "      <th>artist</th>\n",
       "      <th>release_year</th>\n",
       "      <th>composed</th>\n",
       "      <th>genre</th>\n",
       "      <th>appearances</th>\n",
       "      <th>also_performed_by</th>\n",
       "      <th>rating</th>\n",
       "    </tr>\n",
       "  </thead>\n",
       "  <tbody>\n",
       "    <tr>\n",
       "      <th>0</th>\n",
       "      <td>(Listen to The) Flower People</td>\n",
       "      <td>Spinal Tap</td>\n",
       "      <td>1984.0</td>\n",
       "      <td>Christopher Guest</td>\n",
       "      <td>Pop/Rock</td>\n",
       "      <td>1</td>\n",
       "      <td>100</td>\n",
       "      <td>4.575000</td>\n",
       "    </tr>\n",
       "    <tr>\n",
       "      <th>1</th>\n",
       "      <td>Have Yourself a Merry Little Christmas</td>\n",
       "      <td>Judy Garland</td>\n",
       "      <td>1944.0</td>\n",
       "      <td>Ralph Blane</td>\n",
       "      <td>Jazz</td>\n",
       "      <td>140</td>\n",
       "      <td>1295</td>\n",
       "      <td>3.748718</td>\n",
       "    </tr>\n",
       "    <tr>\n",
       "      <th>2</th>\n",
       "      <td>A Dying Cub Fan's Last Request</td>\n",
       "      <td>Steve Goodman</td>\n",
       "      <td>1984.0</td>\n",
       "      <td>Steve Goodman</td>\n",
       "      <td>Pop/Rock</td>\n",
       "      <td>3</td>\n",
       "      <td>200</td>\n",
       "      <td>4.500000</td>\n",
       "    </tr>\n",
       "    <tr>\n",
       "      <th>3</th>\n",
       "      <td>Silent Night</td>\n",
       "      <td>Vienna Boys' Choir</td>\n",
       "      <td>1930.0</td>\n",
       "      <td>Franz Gruber</td>\n",
       "      <td>Classical</td>\n",
       "      <td>8</td>\n",
       "      <td>0</td>\n",
       "      <td>1.900000</td>\n",
       "    </tr>\n",
       "    <tr>\n",
       "      <th>4</th>\n",
       "      <td>Amazing Grace</td>\n",
       "      <td>Judy Collins</td>\n",
       "      <td>1970.0</td>\n",
       "      <td>John Newton</td>\n",
       "      <td>Folk</td>\n",
       "      <td>18</td>\n",
       "      <td>0</td>\n",
       "      <td>2.200000</td>\n",
       "    </tr>\n",
       "    <tr>\n",
       "      <th>...</th>\n",
       "      <td>...</td>\n",
       "      <td>...</td>\n",
       "      <td>...</td>\n",
       "      <td>...</td>\n",
       "      <td>...</td>\n",
       "      <td>...</td>\n",
       "      <td>...</td>\n",
       "      <td>...</td>\n",
       "    </tr>\n",
       "    <tr>\n",
       "      <th>2817</th>\n",
       "      <td>Zing Zong</td>\n",
       "      <td>Kanda Bongo Man</td>\n",
       "      <td>1991.0</td>\n",
       "      <td>Kanda Bongo Man</td>\n",
       "      <td>International</td>\n",
       "      <td>4</td>\n",
       "      <td>0</td>\n",
       "      <td>2.875000</td>\n",
       "    </tr>\n",
       "    <tr>\n",
       "      <th>2818</th>\n",
       "      <td>Yoda</td>\n",
       "      <td>Weird Al Yankovic</td>\n",
       "      <td>1985.0</td>\n",
       "      <td>Ray Davies</td>\n",
       "      <td>Comedy/Spoken</td>\n",
       "      <td>6</td>\n",
       "      <td>0</td>\n",
       "      <td>1.900000</td>\n",
       "    </tr>\n",
       "    <tr>\n",
       "      <th>2819</th>\n",
       "      <td>Night and Day</td>\n",
       "      <td>Sergio Mendes</td>\n",
       "      <td>1970.0</td>\n",
       "      <td>Cole Porter</td>\n",
       "      <td>Pop/Rock</td>\n",
       "      <td>9</td>\n",
       "      <td>900</td>\n",
       "      <td>4.500000</td>\n",
       "    </tr>\n",
       "    <tr>\n",
       "      <th>2820</th>\n",
       "      <td>Zorba the Greek</td>\n",
       "      <td>Herb Alpert</td>\n",
       "      <td>1970.0</td>\n",
       "      <td>John Kander</td>\n",
       "      <td>Easy</td>\n",
       "      <td>4</td>\n",
       "      <td>3</td>\n",
       "      <td>4.250000</td>\n",
       "    </tr>\n",
       "    <tr>\n",
       "      <th>2821</th>\n",
       "      <td>Zydeco Gris-Gris</td>\n",
       "      <td>Michael Doucet</td>\n",
       "      <td>1991.0</td>\n",
       "      <td>Leo Kottke</td>\n",
       "      <td>International</td>\n",
       "      <td>3</td>\n",
       "      <td>0</td>\n",
       "      <td>3.833333</td>\n",
       "    </tr>\n",
       "  </tbody>\n",
       "</table>\n",
       "<p>2822 rows × 8 columns</p>\n",
       "</div>"
      ],
      "text/plain": [
       "                                        song              artist  \\\n",
       "0              (Listen to The) Flower People          Spinal Tap   \n",
       "1     Have Yourself a Merry Little Christmas        Judy Garland   \n",
       "2             A Dying Cub Fan's Last Request       Steve Goodman   \n",
       "3                               Silent Night  Vienna Boys' Choir   \n",
       "4                              Amazing Grace        Judy Collins   \n",
       "...                                      ...                 ...   \n",
       "2817                               Zing Zong     Kanda Bongo Man   \n",
       "2818                                    Yoda   Weird Al Yankovic   \n",
       "2819                           Night and Day       Sergio Mendes   \n",
       "2820                         Zorba the Greek         Herb Alpert   \n",
       "2821                        Zydeco Gris-Gris      Michael Doucet   \n",
       "\n",
       "      release_year           composed          genre  appearances  \\\n",
       "0           1984.0  Christopher Guest       Pop/Rock            1   \n",
       "1           1944.0        Ralph Blane           Jazz          140   \n",
       "2           1984.0      Steve Goodman       Pop/Rock            3   \n",
       "3           1930.0       Franz Gruber      Classical            8   \n",
       "4           1970.0        John Newton           Folk           18   \n",
       "...            ...                ...            ...          ...   \n",
       "2817        1991.0    Kanda Bongo Man  International            4   \n",
       "2818        1985.0         Ray Davies  Comedy/Spoken            6   \n",
       "2819        1970.0        Cole Porter       Pop/Rock            9   \n",
       "2820        1970.0        John Kander           Easy            4   \n",
       "2821        1991.0         Leo Kottke  International            3   \n",
       "\n",
       "      also_performed_by    rating  \n",
       "0                   100  4.575000  \n",
       "1                  1295  3.748718  \n",
       "2                   200  4.500000  \n",
       "3                     0  1.900000  \n",
       "4                     0  2.200000  \n",
       "...                 ...       ...  \n",
       "2817                  0  2.875000  \n",
       "2818                  0  1.900000  \n",
       "2819                900  4.500000  \n",
       "2820                  3  4.250000  \n",
       "2821                  0  3.833333  \n",
       "\n",
       "[2822 rows x 8 columns]"
      ]
     },
     "execution_count": 425,
     "metadata": {},
     "output_type": "execute_result"
    }
   ],
   "source": [
    "df2"
   ]
  },
  {
   "cell_type": "markdown",
   "id": "c9e791f0",
   "metadata": {},
   "source": [
    "# Visualise the connection between Genre and it's Rating"
   ]
  },
  {
   "cell_type": "code",
   "execution_count": 426,
   "id": "c76b5ffc",
   "metadata": {},
   "outputs": [
    {
     "data": {
      "text/plain": [
       "<AxesSubplot:xlabel='genre'>"
      ]
     },
     "execution_count": 426,
     "metadata": {},
     "output_type": "execute_result"
    },
    {
     "data": {
      "image/png": "[encoded data removed]",
      "text/plain": [
       "<Figure size 1080x432 with 1 Axes>"
      ]
     },
     "metadata": {
      "needs_background": "light"
     },
     "output_type": "display_data"
    }
   ],
   "source": [
    "#We filter the 11 genres with the most songs, and sort them by their average rating\n",
    "#then we visualise it\n",
    "sr_avg=df2.groupby(['genre'])['rating'].mean()\n",
    "plt.rcParams[\"figure.figsize\"] = (15,6)\n",
    "sr_avg=sr_avg.sort_values(ascending=True)\n",
    "sr_avg.plot(kind='bar')"
   ]
  },
  {
   "cell_type": "code",
   "execution_count": 427,
   "id": "0c156a82",
   "metadata": {},
   "outputs": [
    {
     "name": "stderr",
     "output_type": "stream",
     "text": [
      "/home/noam/anaconda3/lib/python3.9/site-packages/seaborn/_decorators.py:36: FutureWarning: Pass the following variables as keyword args: x, y. From version 0.12, the only valid positional argument will be `data`, and passing other arguments without an explicit keyword will result in an error or misinterpretation.\n",
      "  warnings.warn(\n"
     ]
    },
    {
     "data": {
      "text/plain": [
       "<AxesSubplot:xlabel='genre', ylabel='release_year'>"
      ]
     },
     "execution_count": 427,
     "metadata": {},
     "output_type": "execute_result"
    },
    {
     "data": {
      "image/png": "[encoded data removed]",
      "text/plain": [
       "<Figure size 1080x432 with 1 Axes>"
      ]
     },
     "metadata": {
      "needs_background": "light"
     },
     "output_type": "display_data"
    }
   ],
   "source": [
    "sns.boxplot(df2.genre,df2.release_year)"
   ]
  },
  {
   "cell_type": "code",
   "execution_count": 428,
   "id": "ac21631b",
   "metadata": {},
   "outputs": [],
   "source": [
    "def average_of_covers(df , rate_below , rate_above):\n",
    "    avg_covers_of_rate = 0\n",
    "    count = 0\n",
    "    _sum=0\n",
    "\n",
    "    for i in range(len(df.rating)):\n",
    "        if rate_above >= df.rating[i] and df.rating[i] >= rate_below :\n",
    "            _sum = _sum + df.also_performed_by[i]\n",
    "            count = count + 1\n",
    "    avg_covers_of_rate = _sum/count\n",
    "    return avg_covers_of_rate"
   ]
  },
  {
   "cell_type": "code",
   "execution_count": 429,
   "id": "3470fd2a",
   "metadata": {},
   "outputs": [
    {
     "name": "stdout",
     "output_type": "stream",
     "text": [
      "[2.803921568627451, 11.15, 10.345959595959595, 16.09911504424779, 26.372040586245774, 26.443145589798085, 34.85503355704698, 35.14556962025316]\n"
     ]
    },
    {
     "data": {
      "text/plain": [
       "Text(0, 0.5, 'rates')"
      ]
     },
     "execution_count": 429,
     "metadata": {},
     "output_type": "execute_result"
    },
    {
     "data": {
      "image/png": "[encoded data removed]",
      "text/plain": [
       "<Figure size 504x252 with 1 Axes>"
      ]
     },
     "metadata": {
      "needs_background": "light"
     },
     "output_type": "display_data"
    }
   ],
   "source": [
    "#Create list of avergae cover of songs\n",
    "list_covers=[]\n",
    "list_rates=[0,1,2,3,4,5,6,7]\n",
    "\n",
    "list_covers.append(average_of_covers(df,0,1))\n",
    "list_covers.append(average_of_covers(df,1.5,2))\n",
    "list_covers.append(average_of_covers(df,2,2.5))\n",
    "list_covers.append(average_of_covers(df,2.5,3))\n",
    "list_covers.append(average_of_covers(df,3,3.5))\n",
    "list_covers.append(average_of_covers(df,3.5,4))\n",
    "list_covers.append(average_of_covers(df,4,4.5))\n",
    "list_covers.append(average_of_covers(df,4.5,5))\n",
    "    \n",
    "print(list_covers)\n",
    "plt.rcParams[\"figure.figsize\"] = [7.00, 3.50]\n",
    "plt.rcParams[\"figure.autolayout\"] = True\n",
    "plt.plot(list_covers, list_rates)\n",
    "plt.xlabel(\"covers\")\n",
    "plt.ylabel(\"rates\")"
   ]
  },
  {
   "cell_type": "code",
   "execution_count": 430,
   "id": "df6b8dc6",
   "metadata": {},
   "outputs": [],
   "source": [
    "def convert_genre_name_to_number(df):\n",
    "    i=0\n",
    "    genres_num =[]\n",
    "    genre_types=[]\n",
    "    genre_types=df['genre'].unique()\n",
    "    for i in range (len(genre_types)):\n",
    "        genres_num.append(i+1)\n",
    "    zip_genres=zip(genre_types,genres_num)\n",
    "    dic_genres = dict(zip_genres)\n",
    "    df[\"genre\"]=df[\"genre\"].replace(dic_genres)\n",
    "    return df, dic_genres\n",
    "    "
   ]
  },
  {
   "cell_type": "code",
   "execution_count": 431,
   "id": "ff4cd863",
   "metadata": {},
   "outputs": [],
   "source": [
    "def remove_outlier(df_in, col_name):\n",
    "    q1 = df_in[col_name].quantile(0.30)\n",
    "    q3 = df_in[col_name].quantile(0.70)\n",
    "    iqr = q3-q1 #Interquartile range\n",
    "    fence_low  = q1-1.5*iqr\n",
    "    fence_high = q3+1.5*iqr\n",
    "    df_out = df_in.loc[(df_in[col_name] > fence_low) & (df_in[col_name] < fence_high)]\n",
    "    return df_out"
   ]
  },
  {
   "cell_type": "code",
   "execution_count": 432,
   "id": "da47e228",
   "metadata": {},
   "outputs": [
    {
     "data": {
      "text/html": [
       "<div>\n",
       "<style scoped>\n",
       "    .dataframe tbody tr th:only-of-type {\n",
       "        vertical-align: middle;\n",
       "    }\n",
       "\n",
       "    .dataframe tbody tr th {\n",
       "        vertical-align: top;\n",
       "    }\n",
       "\n",
       "    .dataframe thead th {\n",
       "        text-align: right;\n",
       "    }\n",
       "</style>\n",
       "<table border=\"1\" class=\"dataframe\">\n",
       "  <thead>\n",
       "    <tr style=\"text-align: right;\">\n",
       "      <th></th>\n",
       "      <th>song</th>\n",
       "      <th>artist</th>\n",
       "      <th>release_year</th>\n",
       "      <th>composed</th>\n",
       "      <th>genre</th>\n",
       "      <th>appearances</th>\n",
       "      <th>also_performed_by</th>\n",
       "      <th>rating</th>\n",
       "    </tr>\n",
       "  </thead>\n",
       "  <tbody>\n",
       "    <tr>\n",
       "      <th>0</th>\n",
       "      <td>(Listen to The) Flower People</td>\n",
       "      <td>Spinal Tap</td>\n",
       "      <td>1984.0</td>\n",
       "      <td>Christopher Guest</td>\n",
       "      <td>Pop/Rock</td>\n",
       "      <td>1</td>\n",
       "      <td>100</td>\n",
       "      <td>4.575000</td>\n",
       "    </tr>\n",
       "    <tr>\n",
       "      <th>1</th>\n",
       "      <td>Have Yourself a Merry Little Christmas</td>\n",
       "      <td>Judy Garland</td>\n",
       "      <td>1944.0</td>\n",
       "      <td>Ralph Blane</td>\n",
       "      <td>Jazz</td>\n",
       "      <td>140</td>\n",
       "      <td>1295</td>\n",
       "      <td>3.748718</td>\n",
       "    </tr>\n",
       "    <tr>\n",
       "      <th>2</th>\n",
       "      <td>A Dying Cub Fan's Last Request</td>\n",
       "      <td>Steve Goodman</td>\n",
       "      <td>1984.0</td>\n",
       "      <td>Steve Goodman</td>\n",
       "      <td>Pop/Rock</td>\n",
       "      <td>3</td>\n",
       "      <td>200</td>\n",
       "      <td>4.500000</td>\n",
       "    </tr>\n",
       "    <tr>\n",
       "      <th>3</th>\n",
       "      <td>Silent Night</td>\n",
       "      <td>Vienna Boys' Choir</td>\n",
       "      <td>1930.0</td>\n",
       "      <td>Franz Gruber</td>\n",
       "      <td>Classical</td>\n",
       "      <td>8</td>\n",
       "      <td>0</td>\n",
       "      <td>1.900000</td>\n",
       "    </tr>\n",
       "    <tr>\n",
       "      <th>4</th>\n",
       "      <td>Amazing Grace</td>\n",
       "      <td>Judy Collins</td>\n",
       "      <td>1970.0</td>\n",
       "      <td>John Newton</td>\n",
       "      <td>Folk</td>\n",
       "      <td>18</td>\n",
       "      <td>0</td>\n",
       "      <td>2.200000</td>\n",
       "    </tr>\n",
       "    <tr>\n",
       "      <th>...</th>\n",
       "      <td>...</td>\n",
       "      <td>...</td>\n",
       "      <td>...</td>\n",
       "      <td>...</td>\n",
       "      <td>...</td>\n",
       "      <td>...</td>\n",
       "      <td>...</td>\n",
       "      <td>...</td>\n",
       "    </tr>\n",
       "    <tr>\n",
       "      <th>2817</th>\n",
       "      <td>Zing Zong</td>\n",
       "      <td>Kanda Bongo Man</td>\n",
       "      <td>1991.0</td>\n",
       "      <td>Kanda Bongo Man</td>\n",
       "      <td>International</td>\n",
       "      <td>4</td>\n",
       "      <td>0</td>\n",
       "      <td>2.875000</td>\n",
       "    </tr>\n",
       "    <tr>\n",
       "      <th>2818</th>\n",
       "      <td>Yoda</td>\n",
       "      <td>Weird Al Yankovic</td>\n",
       "      <td>1985.0</td>\n",
       "      <td>Ray Davies</td>\n",
       "      <td>Comedy/Spoken</td>\n",
       "      <td>6</td>\n",
       "      <td>0</td>\n",
       "      <td>1.900000</td>\n",
       "    </tr>\n",
       "    <tr>\n",
       "      <th>2819</th>\n",
       "      <td>Night and Day</td>\n",
       "      <td>Sergio Mendes</td>\n",
       "      <td>1970.0</td>\n",
       "      <td>Cole Porter</td>\n",
       "      <td>Pop/Rock</td>\n",
       "      <td>9</td>\n",
       "      <td>900</td>\n",
       "      <td>4.500000</td>\n",
       "    </tr>\n",
       "    <tr>\n",
       "      <th>2820</th>\n",
       "      <td>Zorba the Greek</td>\n",
       "      <td>Herb Alpert</td>\n",
       "      <td>1970.0</td>\n",
       "      <td>John Kander</td>\n",
       "      <td>Easy</td>\n",
       "      <td>4</td>\n",
       "      <td>3</td>\n",
       "      <td>4.250000</td>\n",
       "    </tr>\n",
       "    <tr>\n",
       "      <th>2821</th>\n",
       "      <td>Zydeco Gris-Gris</td>\n",
       "      <td>Michael Doucet</td>\n",
       "      <td>1991.0</td>\n",
       "      <td>Leo Kottke</td>\n",
       "      <td>International</td>\n",
       "      <td>3</td>\n",
       "      <td>0</td>\n",
       "      <td>3.833333</td>\n",
       "    </tr>\n",
       "  </tbody>\n",
       "</table>\n",
       "<p>2822 rows × 8 columns</p>\n",
       "</div>"
      ],
      "text/plain": [
       "                                        song              artist  \\\n",
       "0              (Listen to The) Flower People          Spinal Tap   \n",
       "1     Have Yourself a Merry Little Christmas        Judy Garland   \n",
       "2             A Dying Cub Fan's Last Request       Steve Goodman   \n",
       "3                               Silent Night  Vienna Boys' Choir   \n",
       "4                              Amazing Grace        Judy Collins   \n",
       "...                                      ...                 ...   \n",
       "2817                               Zing Zong     Kanda Bongo Man   \n",
       "2818                                    Yoda   Weird Al Yankovic   \n",
       "2819                           Night and Day       Sergio Mendes   \n",
       "2820                         Zorba the Greek         Herb Alpert   \n",
       "2821                        Zydeco Gris-Gris      Michael Doucet   \n",
       "\n",
       "      release_year           composed          genre  appearances  \\\n",
       "0           1984.0  Christopher Guest       Pop/Rock            1   \n",
       "1           1944.0        Ralph Blane           Jazz          140   \n",
       "2           1984.0      Steve Goodman       Pop/Rock            3   \n",
       "3           1930.0       Franz Gruber      Classical            8   \n",
       "4           1970.0        John Newton           Folk           18   \n",
       "...            ...                ...            ...          ...   \n",
       "2817        1991.0    Kanda Bongo Man  International            4   \n",
       "2818        1985.0         Ray Davies  Comedy/Spoken            6   \n",
       "2819        1970.0        Cole Porter       Pop/Rock            9   \n",
       "2820        1970.0        John Kander           Easy            4   \n",
       "2821        1991.0         Leo Kottke  International            3   \n",
       "\n",
       "      also_performed_by    rating  \n",
       "0                   100  4.575000  \n",
       "1                  1295  3.748718  \n",
       "2                   200  4.500000  \n",
       "3                     0  1.900000  \n",
       "4                     0  2.200000  \n",
       "...                 ...       ...  \n",
       "2817                  0  2.875000  \n",
       "2818                  0  1.900000  \n",
       "2819                900  4.500000  \n",
       "2820                  3  4.250000  \n",
       "2821                  0  3.833333  \n",
       "\n",
       "[2822 rows x 8 columns]"
      ]
     },
     "execution_count": 432,
     "metadata": {},
     "output_type": "execute_result"
    }
   ],
   "source": [
    "df2\n"
   ]
  },
  {
   "cell_type": "code",
   "execution_count": 433,
   "id": "bf855fee",
   "metadata": {},
   "outputs": [
    {
     "name": "stderr",
     "output_type": "stream",
     "text": [
      "/home/noam/anaconda3/lib/python3.9/site-packages/pandas/core/indexing.py:1732: SettingWithCopyWarning: \n",
      "A value is trying to be set on a copy of a slice from a DataFrame\n",
      "\n",
      "See the caveats in the documentation: https://pandas.pydata.org/pandas-docs/stable/user_guide/indexing.html#returning-a-view-versus-a-copy\n",
      "  self._setitem_single_block(indexer, value, name)\n"
     ]
    },
    {
     "data": {
      "text/html": [
       "<div>\n",
       "<style scoped>\n",
       "    .dataframe tbody tr th:only-of-type {\n",
       "        vertical-align: middle;\n",
       "    }\n",
       "\n",
       "    .dataframe tbody tr th {\n",
       "        vertical-align: top;\n",
       "    }\n",
       "\n",
       "    .dataframe thead th {\n",
       "        text-align: right;\n",
       "    }\n",
       "</style>\n",
       "<table border=\"1\" class=\"dataframe\">\n",
       "  <thead>\n",
       "    <tr style=\"text-align: right;\">\n",
       "      <th></th>\n",
       "      <th>song</th>\n",
       "      <th>artist</th>\n",
       "      <th>release_year</th>\n",
       "      <th>composed</th>\n",
       "      <th>genre</th>\n",
       "      <th>appearances</th>\n",
       "      <th>also_performed_by</th>\n",
       "      <th>rating</th>\n",
       "    </tr>\n",
       "  </thead>\n",
       "  <tbody>\n",
       "    <tr>\n",
       "      <th>0</th>\n",
       "      <td>(Listen to The) Flower People</td>\n",
       "      <td>Spinal Tap</td>\n",
       "      <td>1984.0</td>\n",
       "      <td>Christopher Guest</td>\n",
       "      <td>Pop/Rock</td>\n",
       "      <td>1</td>\n",
       "      <td>100</td>\n",
       "      <td>1.0</td>\n",
       "    </tr>\n",
       "    <tr>\n",
       "      <th>1</th>\n",
       "      <td>Have Yourself a Merry Little Christmas</td>\n",
       "      <td>Judy Garland</td>\n",
       "      <td>1944.0</td>\n",
       "      <td>Ralph Blane</td>\n",
       "      <td>Jazz</td>\n",
       "      <td>140</td>\n",
       "      <td>1295</td>\n",
       "      <td>0.0</td>\n",
       "    </tr>\n",
       "    <tr>\n",
       "      <th>2</th>\n",
       "      <td>A Dying Cub Fan's Last Request</td>\n",
       "      <td>Steve Goodman</td>\n",
       "      <td>1984.0</td>\n",
       "      <td>Steve Goodman</td>\n",
       "      <td>Pop/Rock</td>\n",
       "      <td>3</td>\n",
       "      <td>200</td>\n",
       "      <td>1.0</td>\n",
       "    </tr>\n",
       "    <tr>\n",
       "      <th>3</th>\n",
       "      <td>Silent Night</td>\n",
       "      <td>Vienna Boys' Choir</td>\n",
       "      <td>1930.0</td>\n",
       "      <td>Franz Gruber</td>\n",
       "      <td>Classical</td>\n",
       "      <td>8</td>\n",
       "      <td>0</td>\n",
       "      <td>0.0</td>\n",
       "    </tr>\n",
       "    <tr>\n",
       "      <th>4</th>\n",
       "      <td>Amazing Grace</td>\n",
       "      <td>Judy Collins</td>\n",
       "      <td>1970.0</td>\n",
       "      <td>John Newton</td>\n",
       "      <td>Folk</td>\n",
       "      <td>18</td>\n",
       "      <td>0</td>\n",
       "      <td>0.0</td>\n",
       "    </tr>\n",
       "    <tr>\n",
       "      <th>...</th>\n",
       "      <td>...</td>\n",
       "      <td>...</td>\n",
       "      <td>...</td>\n",
       "      <td>...</td>\n",
       "      <td>...</td>\n",
       "      <td>...</td>\n",
       "      <td>...</td>\n",
       "      <td>...</td>\n",
       "    </tr>\n",
       "    <tr>\n",
       "      <th>2817</th>\n",
       "      <td>Zing Zong</td>\n",
       "      <td>Kanda Bongo Man</td>\n",
       "      <td>1991.0</td>\n",
       "      <td>Kanda Bongo Man</td>\n",
       "      <td>International</td>\n",
       "      <td>4</td>\n",
       "      <td>0</td>\n",
       "      <td>0.0</td>\n",
       "    </tr>\n",
       "    <tr>\n",
       "      <th>2818</th>\n",
       "      <td>Yoda</td>\n",
       "      <td>Weird Al Yankovic</td>\n",
       "      <td>1985.0</td>\n",
       "      <td>Ray Davies</td>\n",
       "      <td>Comedy/Spoken</td>\n",
       "      <td>6</td>\n",
       "      <td>0</td>\n",
       "      <td>0.0</td>\n",
       "    </tr>\n",
       "    <tr>\n",
       "      <th>2819</th>\n",
       "      <td>Night and Day</td>\n",
       "      <td>Sergio Mendes</td>\n",
       "      <td>1970.0</td>\n",
       "      <td>Cole Porter</td>\n",
       "      <td>Pop/Rock</td>\n",
       "      <td>9</td>\n",
       "      <td>900</td>\n",
       "      <td>1.0</td>\n",
       "    </tr>\n",
       "    <tr>\n",
       "      <th>2820</th>\n",
       "      <td>Zorba the Greek</td>\n",
       "      <td>Herb Alpert</td>\n",
       "      <td>1970.0</td>\n",
       "      <td>John Kander</td>\n",
       "      <td>Easy</td>\n",
       "      <td>4</td>\n",
       "      <td>3</td>\n",
       "      <td>1.0</td>\n",
       "    </tr>\n",
       "    <tr>\n",
       "      <th>2821</th>\n",
       "      <td>Zydeco Gris-Gris</td>\n",
       "      <td>Michael Doucet</td>\n",
       "      <td>1991.0</td>\n",
       "      <td>Leo Kottke</td>\n",
       "      <td>International</td>\n",
       "      <td>3</td>\n",
       "      <td>0</td>\n",
       "      <td>0.0</td>\n",
       "    </tr>\n",
       "  </tbody>\n",
       "</table>\n",
       "<p>2822 rows × 8 columns</p>\n",
       "</div>"
      ],
      "text/plain": [
       "                                        song              artist  \\\n",
       "0              (Listen to The) Flower People          Spinal Tap   \n",
       "1     Have Yourself a Merry Little Christmas        Judy Garland   \n",
       "2             A Dying Cub Fan's Last Request       Steve Goodman   \n",
       "3                               Silent Night  Vienna Boys' Choir   \n",
       "4                              Amazing Grace        Judy Collins   \n",
       "...                                      ...                 ...   \n",
       "2817                               Zing Zong     Kanda Bongo Man   \n",
       "2818                                    Yoda   Weird Al Yankovic   \n",
       "2819                           Night and Day       Sergio Mendes   \n",
       "2820                         Zorba the Greek         Herb Alpert   \n",
       "2821                        Zydeco Gris-Gris      Michael Doucet   \n",
       "\n",
       "      release_year           composed          genre  appearances  \\\n",
       "0           1984.0  Christopher Guest       Pop/Rock            1   \n",
       "1           1944.0        Ralph Blane           Jazz          140   \n",
       "2           1984.0      Steve Goodman       Pop/Rock            3   \n",
       "3           1930.0       Franz Gruber      Classical            8   \n",
       "4           1970.0        John Newton           Folk           18   \n",
       "...            ...                ...            ...          ...   \n",
       "2817        1991.0    Kanda Bongo Man  International            4   \n",
       "2818        1985.0         Ray Davies  Comedy/Spoken            6   \n",
       "2819        1970.0        Cole Porter       Pop/Rock            9   \n",
       "2820        1970.0        John Kander           Easy            4   \n",
       "2821        1991.0         Leo Kottke  International            3   \n",
       "\n",
       "      also_performed_by  rating  \n",
       "0                   100     1.0  \n",
       "1                  1295     0.0  \n",
       "2                   200     1.0  \n",
       "3                     0     0.0  \n",
       "4                     0     0.0  \n",
       "...                 ...     ...  \n",
       "2817                  0     0.0  \n",
       "2818                  0     0.0  \n",
       "2819                900     1.0  \n",
       "2820                  3     1.0  \n",
       "2821                  0     0.0  \n",
       "\n",
       "[2822 rows x 8 columns]"
      ]
     },
     "execution_count": 433,
     "metadata": {},
     "output_type": "execute_result"
    }
   ],
   "source": [
    "df2.rating.loc[df2[\"rating\"]<4]=0\n",
    "df2.rating.loc[df2[\"rating\"]>=4]=1\n",
    "df2"
   ]
  },
  {
   "cell_type": "markdown",
   "id": "843648a7",
   "metadata": {},
   "source": [
    "# Machine Learning\n",
    "\n",
    "### we will try to predict the rating of songs by diffrents parameter"
   ]
  },
  {
   "cell_type": "code",
   "execution_count": 434,
   "id": "9f956d4d",
   "metadata": {},
   "outputs": [],
   "source": [
    "from sklearn.preprocessing import LabelEncoder\n",
    "def Encoder(df):\n",
    "    columnsToEncode = list(df.select_dtypes(include=['category','object']))\n",
    "    le = LabelEncoder()\n",
    "    for feature in columnsToEncode:\n",
    "        try:\n",
    "            df[feature] = le.fit_transform(df[feature])\n",
    "        except:\n",
    "            print('Error encoding '+feature)\n",
    "    return df\n",
    "\n",
    "df2 = Encoder(df2)"
   ]
  },
  {
   "cell_type": "code",
   "execution_count": 435,
   "id": "872cfc7c",
   "metadata": {},
   "outputs": [],
   "source": [
    "def load_dataset2(file_name, target_column):\n",
    "    dataframe = pd.read_csv(file_name)\n",
    "    X = dataframe.drop(target_column, axis = 1)\n",
    "    y = pd.Series(dataframe[target_column])\n",
    "    return X, y"
   ]
  },
  {
   "cell_type": "code",
   "execution_count": 436,
   "id": "a1070832",
   "metadata": {},
   "outputs": [
    {
     "data": {
      "text/plain": [
       "'\\ndef load_dataset2(file_name, target_column):\\n    dataframe = pd.read_csv(file_name)\\n    dataframe= dataframe.drop([\"song\"], axis=1)\\n    X = dataframe.drop(target_column, axis = 1)\\n    y = pd.Series(dataframe[target_column])\\n    return X, y\\n'"
      ]
     },
     "execution_count": 436,
     "metadata": {},
     "output_type": "execute_result"
    }
   ],
   "source": [
    "'''\n",
    "def load_dataset2(file_name, target_column):\n",
    "    dataframe = pd.read_csv(file_name)\n",
    "    dataframe= dataframe.drop([\"song\"], axis=1)\n",
    "    X = dataframe.drop(target_column, axis = 1)\n",
    "    y = pd.Series(dataframe[target_column])\n",
    "    return X, y\n",
    "'''"
   ]
  },
  {
   "cell_type": "code",
   "execution_count": 437,
   "id": "07a99424",
   "metadata": {},
   "outputs": [],
   "source": [
    "df2.to_csv('all_songs_for_1st_model_train.csv')\n",
    "df2.to_csv('all_songs_for_1st_model_test.csv')\n",
    "file_name = 'all_songs_for_1st_model_train.csv'\n",
    "target_col_name = 'rating'\n",
    "X, y = load_dataset2(file_name, target_col_name)"
   ]
  },
  {
   "cell_type": "code",
   "execution_count": 438,
   "id": "c1a6cace",
   "metadata": {},
   "outputs": [],
   "source": [
    "#df2.to_csv('ch.csv')"
   ]
  },
  {
   "cell_type": "code",
   "execution_count": 439,
   "id": "e50269f4",
   "metadata": {},
   "outputs": [],
   "source": [
    "\n",
    "def train_1st_model(X_train, y_train):\n",
    "    clf_model = LinearRegression()\n",
    "    trained_model = clf_model.fit(X_train, y_train)\n",
    "    return trained_model\n"
   ]
  },
  {
   "cell_type": "code",
   "execution_count": 440,
   "id": "fbcf07d7",
   "metadata": {},
   "outputs": [],
   "source": [
    "file_name_train ='all_songs_for_1st_model_train.csv'\n",
    "file_name_test = 'all_songs_for_1st_model_test.csv'\n",
    "target_col_name='rating'\n",
    "X_1st_train, y_1st_train = load_dataset2(file_name_train, target_col_name)\n",
    "X_1st_test, y_1st_test = load_dataset2(file_name_test, target_col_name)\n",
    "trained_model_1st = train_1st_model(X_1st_train, y_1st_train)"
   ]
  },
  {
   "cell_type": "code",
   "execution_count": 441,
   "id": "6fc57a46",
   "metadata": {},
   "outputs": [],
   "source": [
    "### 3.b.\n",
    "# ------------>>>>>>>> RUN THIS CODE CELL <<<<<<<<------------\n",
    "# --------  (run after implementation)\n",
    "# === CODE TYPE: ANSWER \n",
    "\n",
    "def predict_2nd(trained_2nd_model, X_test):\n",
    "    predicted_vals = trained_2nd_model.predict(X_test)\n",
    "    return predicted_vals"
   ]
  },
  {
   "cell_type": "code",
   "execution_count": 442,
   "id": "0565c8b9",
   "metadata": {},
   "outputs": [],
   "source": [
    "# 3.b.\n",
    "# ---->>>>>>>> RUN THIS CODE CELL <<<<<<<<------------\n",
    "# --------  (run after implementation)\n",
    "# === CODE TYPE: SELF TESTING\n",
    "# Use the following code to test your implementation:\n",
    "#file_name_2nd_train = 'imdb_for_2nd_model_train.csv'\n",
    "#file_name_2nd_test ='imdb_for_2nd_model_test.csv'\n",
    "#target_col_2nd_name = 'suitable_for_kids'\n",
    "file_name_train ='all_songs_for_1st_model_train.csv'\n",
    "file_name_test = 'all_songs_for_1st_model_test.csv'\n",
    "target_col_name='rating'\n",
    "X_2nd_train, y_2nd_train = load_dataset2(file_name_train, target_col_name)\n",
    "X_2nd_test, y_2nd_test = load_dataset2(file_name_test, target_col_name)\n",
    "trained_model_1st = train_1st_model(X_1st_train, y_1st_train)\n",
    "pred_2nd_vals = predict_2nd(trained_model_1st, X_2nd_test)\n",
    "y_pred_2nd = pd.Series(pred_2nd_vals,index=X_2nd_test.index)\n",
    "# --- add additional code to check your code if needed:\n",
    "###\n",
    "### YOUR CODE HERE\n",
    "###\n"
   ]
  },
  {
   "cell_type": "code",
   "execution_count": 443,
   "id": "bd35aa68",
   "metadata": {},
   "outputs": [],
   "source": [
    "### 3.c.\n",
    "# ------------>>>>>>>> RUN THIS CODE CELL <<<<<<<<------------\n",
    "# --------  (run after implementation)\n",
    "# === CODE TYPE: ANSWER \n",
    "\n",
    "def evaluate_performance_2nd(y_test,y_predicted):\n",
    "    evaluate_value = metrics.r2_score(y_test, y_predicted)\n",
    "    #evaluate_value=metrics.clf.score(y_test,y_predicted)\n",
    "    return evaluate_value\n"
   ]
  },
  {
   "cell_type": "code",
   "execution_count": 444,
   "id": "20219205",
   "metadata": {},
   "outputs": [],
   "source": [
    "# 3.c.\n",
    "# ------------>>>>>>>> RUN THIS CODE CELL <<<<<<<<------------\n",
    "# --------  (run after implementation)\n",
    "# === CODE TYPE: SELF TESTING\n",
    "# Use the following code to test your implementation:\n",
    "file_name_2nd_train=file_name_train\n",
    "file_name_2nd_test=file_name_test\n",
    "target_col_2nd_name = 'rating'\n",
    "X_2nd_train, y_2nd_train = load_dataset2(file_name_2nd_train, target_col_2nd_name)\n",
    "X_2nd_test, y_2nd_test = load_dataset2(file_name_2nd_test, target_col_2nd_name)\n",
    "trained_model_2nd = train_1st_model(X_2nd_train, y_2nd_train)\n",
    "pred_2nd_vals = predict_2nd(trained_model_2nd, X_2nd_test)\n",
    "y_pred_2nd = pd.Series(pred_2nd_vals,index=X_2nd_test.index)\n",
    "eval_res_2nd = evaluate_performance_2nd(y_2nd_test, y_pred_2nd)\n",
    "\n",
    "# --- add additional code to check your code if needed:\n",
    "###\n",
    "### YOUR CODE HERE\n",
    "###\n"
   ]
  },
  {
   "cell_type": "code",
   "execution_count": 445,
   "id": "8e698c79",
   "metadata": {},
   "outputs": [
    {
     "name": "stdout",
     "output_type": "stream",
     "text": [
      "0.18337364341181828\n"
     ]
    }
   ],
   "source": [
    "print(eval_res_2nd)"
   ]
  },
  {
   "cell_type": "code",
   "execution_count": 446,
   "id": "9468f9ad",
   "metadata": {},
   "outputs": [
    {
     "name": "stdout",
     "output_type": "stream",
     "text": [
      "0       0.528333\n",
      "1       0.874527\n",
      "2       0.538428\n",
      "3      -0.040316\n",
      "4       0.283275\n",
      "          ...   \n",
      "2817    0.444583\n",
      "2818    0.086337\n",
      "2819    0.988864\n",
      "2820    0.272357\n",
      "2821    0.430832\n",
      "Length: 2822, dtype: float64 ********* 0       1.0\n",
      "1       0.0\n",
      "2       1.0\n",
      "3       0.0\n",
      "4       0.0\n",
      "       ... \n",
      "2817    0.0\n",
      "2818    0.0\n",
      "2819    1.0\n",
      "2820    1.0\n",
      "2821    0.0\n",
      "Name: rating, Length: 2822, dtype: float64\n"
     ]
    }
   ],
   "source": [
    "print(y_pred_2nd , \"*********\" , y_2nd_test)"
   ]
  },
  {
   "cell_type": "markdown",
   "id": "3f6d23f1",
   "metadata": {},
   "source": [
    "# Classification\n"
   ]
  },
  {
   "cell_type": "code",
   "execution_count": 447,
   "id": "dbe947a8",
   "metadata": {},
   "outputs": [],
   "source": [
    "# ------------>>>>>>>> RUN THIS CODE CELL <<<<<<<<------------\n",
    "# === CELL TYPE: IMPORTS AND SETUP \n",
    "\n",
    "import os                       # for testing use only\n",
    "\n",
    "import numpy as np\n",
    "import pandas as pd\n",
    "from sklearn.model_selection import train_test_split\n",
    "# --------cross-validation\n",
    "from sklearn.model_selection import cross_val_score\n",
    "from sklearn.model_selection import GridSearchCV\n",
    "# -------- classification\n",
    "import sklearn\n",
    "from sklearn import neighbors, tree, ensemble, naive_bayes, svm\n",
    "# *** KNN\n",
    "from sklearn.neighbors import KNeighborsClassifier\n",
    "# *** Decision Tree; Random Forest\n",
    "from sklearn import tree\n",
    "from sklearn.tree import DecisionTreeClassifier\n",
    "from sklearn.ensemble import RandomForestClassifier\n",
    "# *** Naive Bayes\n",
    "from sklearn.naive_bayes import GaussianNB\n",
    "# *** SVM classifier\n",
    "from sklearn.svm import SVC\n",
    "# --------  metrics:\n",
    "from sklearn import metrics\n",
    "from sklearn.metrics import accuracy_score, precision_score, recall_score, f1_score, confusion_matrix\n",
    "from sklearn.metrics import make_scorer\n",
    "import string\n",
    "%matplotlib inline"
   ]
  },
  {
   "cell_type": "code",
   "execution_count": 448,
   "id": "8613f513",
   "metadata": {},
   "outputs": [],
   "source": [
    "def transfer_str_to_numeric_vals(dataset):\n",
    "    ###\n",
    "    df_change = dataset.copy()\n",
    "    df_change.dropna(inplace=True)\n",
    "    df_change.drop_duplicates(inplace=True)\n",
    "    return df_change.apply(lambda x:pd.factorize(x, sort=True)[0])\n",
    "    ###"
   ]
  },
  {
   "cell_type": "code",
   "execution_count": 449,
   "id": "74f1332a",
   "metadata": {},
   "outputs": [],
   "source": [
    "df2 = transfer_str_to_numeric_vals(df2)"
   ]
  },
  {
   "cell_type": "code",
   "execution_count": 450,
   "id": "bb9d0959",
   "metadata": {},
   "outputs": [
    {
     "data": {
      "text/html": [
       "<div>\n",
       "<style scoped>\n",
       "    .dataframe tbody tr th:only-of-type {\n",
       "        vertical-align: middle;\n",
       "    }\n",
       "\n",
       "    .dataframe tbody tr th {\n",
       "        vertical-align: top;\n",
       "    }\n",
       "\n",
       "    .dataframe thead th {\n",
       "        text-align: right;\n",
       "    }\n",
       "</style>\n",
       "<table border=\"1\" class=\"dataframe\">\n",
       "  <thead>\n",
       "    <tr style=\"text-align: right;\">\n",
       "      <th></th>\n",
       "      <th>song</th>\n",
       "      <th>artist</th>\n",
       "      <th>release_year</th>\n",
       "      <th>composed</th>\n",
       "      <th>genre</th>\n",
       "      <th>appearances</th>\n",
       "      <th>also_performed_by</th>\n",
       "      <th>rating</th>\n",
       "    </tr>\n",
       "  </thead>\n",
       "  <tbody>\n",
       "    <tr>\n",
       "      <th>0</th>\n",
       "      <td>10</td>\n",
       "      <td>320</td>\n",
       "      <td>71</td>\n",
       "      <td>165</td>\n",
       "      <td>9</td>\n",
       "      <td>0</td>\n",
       "      <td>96</td>\n",
       "      <td>1</td>\n",
       "    </tr>\n",
       "    <tr>\n",
       "      <th>1</th>\n",
       "      <td>857</td>\n",
       "      <td>195</td>\n",
       "      <td>32</td>\n",
       "      <td>705</td>\n",
       "      <td>8</td>\n",
       "      <td>116</td>\n",
       "      <td>174</td>\n",
       "      <td>0</td>\n",
       "    </tr>\n",
       "    <tr>\n",
       "      <th>2</th>\n",
       "      <td>24</td>\n",
       "      <td>325</td>\n",
       "      <td>71</td>\n",
       "      <td>814</td>\n",
       "      <td>9</td>\n",
       "      <td>2</td>\n",
       "      <td>134</td>\n",
       "      <td>1</td>\n",
       "    </tr>\n",
       "    <tr>\n",
       "      <th>3</th>\n",
       "      <td>1900</td>\n",
       "      <td>364</td>\n",
       "      <td>18</td>\n",
       "      <td>293</td>\n",
       "      <td>1</td>\n",
       "      <td>7</td>\n",
       "      <td>0</td>\n",
       "      <td>0</td>\n",
       "    </tr>\n",
       "    <tr>\n",
       "      <th>4</th>\n",
       "      <td>118</td>\n",
       "      <td>194</td>\n",
       "      <td>57</td>\n",
       "      <td>473</td>\n",
       "      <td>6</td>\n",
       "      <td>17</td>\n",
       "      <td>0</td>\n",
       "      <td>0</td>\n",
       "    </tr>\n",
       "    <tr>\n",
       "      <th>...</th>\n",
       "      <td>...</td>\n",
       "      <td>...</td>\n",
       "      <td>...</td>\n",
       "      <td>...</td>\n",
       "      <td>...</td>\n",
       "      <td>...</td>\n",
       "      <td>...</td>\n",
       "      <td>...</td>\n",
       "    </tr>\n",
       "    <tr>\n",
       "      <th>2817</th>\n",
       "      <td>2582</td>\n",
       "      <td>198</td>\n",
       "      <td>78</td>\n",
       "      <td>509</td>\n",
       "      <td>7</td>\n",
       "      <td>3</td>\n",
       "      <td>0</td>\n",
       "      <td>0</td>\n",
       "    </tr>\n",
       "    <tr>\n",
       "      <th>2818</th>\n",
       "      <td>2535</td>\n",
       "      <td>374</td>\n",
       "      <td>72</td>\n",
       "      <td>718</td>\n",
       "      <td>2</td>\n",
       "      <td>5</td>\n",
       "      <td>0</td>\n",
       "      <td>0</td>\n",
       "    </tr>\n",
       "    <tr>\n",
       "      <th>2819</th>\n",
       "      <td>1549</td>\n",
       "      <td>313</td>\n",
       "      <td>57</td>\n",
       "      <td>175</td>\n",
       "      <td>9</td>\n",
       "      <td>8</td>\n",
       "      <td>172</td>\n",
       "      <td>1</td>\n",
       "    </tr>\n",
       "    <tr>\n",
       "      <th>2820</th>\n",
       "      <td>2583</td>\n",
       "      <td>148</td>\n",
       "      <td>57</td>\n",
       "      <td>463</td>\n",
       "      <td>4</td>\n",
       "      <td>3</td>\n",
       "      <td>3</td>\n",
       "      <td>1</td>\n",
       "    </tr>\n",
       "    <tr>\n",
       "      <th>2821</th>\n",
       "      <td>2584</td>\n",
       "      <td>252</td>\n",
       "      <td>78</td>\n",
       "      <td>546</td>\n",
       "      <td>7</td>\n",
       "      <td>2</td>\n",
       "      <td>0</td>\n",
       "      <td>0</td>\n",
       "    </tr>\n",
       "  </tbody>\n",
       "</table>\n",
       "<p>2754 rows × 8 columns</p>\n",
       "</div>"
      ],
      "text/plain": [
       "      song  artist  release_year  composed  genre  appearances  \\\n",
       "0       10     320            71       165      9            0   \n",
       "1      857     195            32       705      8          116   \n",
       "2       24     325            71       814      9            2   \n",
       "3     1900     364            18       293      1            7   \n",
       "4      118     194            57       473      6           17   \n",
       "...    ...     ...           ...       ...    ...          ...   \n",
       "2817  2582     198            78       509      7            3   \n",
       "2818  2535     374            72       718      2            5   \n",
       "2819  1549     313            57       175      9            8   \n",
       "2820  2583     148            57       463      4            3   \n",
       "2821  2584     252            78       546      7            2   \n",
       "\n",
       "      also_performed_by  rating  \n",
       "0                    96       1  \n",
       "1                   174       0  \n",
       "2                   134       1  \n",
       "3                     0       0  \n",
       "4                     0       0  \n",
       "...                 ...     ...  \n",
       "2817                  0       0  \n",
       "2818                  0       0  \n",
       "2819                172       1  \n",
       "2820                  3       1  \n",
       "2821                  0       0  \n",
       "\n",
       "[2754 rows x 8 columns]"
      ]
     },
     "execution_count": 450,
     "metadata": {},
     "output_type": "execute_result"
    }
   ],
   "source": [
    "df2"
   ]
  },
  {
   "cell_type": "code",
   "execution_count": 451,
   "id": "72c924a2",
   "metadata": {},
   "outputs": [],
   "source": [
    "def split_to_train_and_test(dataset, label_column, test_ratio, rand_state):\n",
    "    #split\n",
    "    X= dataset.drop(columns=label_column)\n",
    "    y = dataset[label_column]\n",
    "    \n",
    "    #train\n",
    "    X_train , X_test = train_test_split(X,train_size=1-test_ratio ,random_state=rand_state)\n",
    "    Y_train , Y_test = train_test_split(y, train_size= 1-test_ratio ,random_state=rand_state)\n",
    "    return X_train, X_test, Y_train, Y_test"
   ]
  },
  {
   "cell_type": "code",
   "execution_count": 452,
   "id": "74abd292",
   "metadata": {},
   "outputs": [
    {
     "name": "stdout",
     "output_type": "stream",
     "text": [
      "(2203, 7) (551, 7) (2203,) (551,)\n"
     ]
    }
   ],
   "source": [
    "test_ratio, rand_state = 0.2, 42\n",
    "category_col_name = 'rating'\n",
    "dataset = transfer_str_to_numeric_vals(df2) \n",
    "X_train, X_test, y_train, y_test = split_to_train_and_test(dataset, category_col_name, test_ratio, rand_state)\n",
    "print(X_train.shape, X_test.shape, y_train.shape, y_test.shape)"
   ]
  },
  {
   "cell_type": "code",
   "execution_count": 453,
   "id": "b8bf1c31",
   "metadata": {},
   "outputs": [],
   "source": [
    "def get_classifier_obj(classifier_name, params):\n",
    "    ###\n",
    "    if classifier_name == 'KNN':\n",
    "        if params == None:\n",
    "            clf = KNeighborsClassifier()\n",
    "            return clf\n",
    "        else:\n",
    "            clf = KNeighborsClassifier(n_neighbors=params['n_neighbors'])\n",
    "            return clf\n",
    "        \n",
    "        \n",
    "    if classifier_name == 'random_forest':\n",
    "        if params == None:\n",
    "            return RandomForestClassifier()\n",
    "        else:\n",
    "            return RandomForestClassifier(n_estimators = params['n_estimators'])\n",
    "\n",
    "    \n",
    "    if classifier_name == 'decision_tree':\n",
    "        if params == None:\n",
    "            return tree.DecisionTreeClassifier()\n",
    "        else:\n",
    "            return tree.DecisionTreeClassifier(max_depth=params[\"max_depth\"] ,\n",
    "                                          min_samples_split=params[\"min_samples_split\"])\n",
    "        \n",
    "        \n",
    "    if classifier_name == 'naive_bayes':\n",
    "        return GaussianNB()\n",
    "            \n",
    "    if classifier_name == 'svm':\n",
    "        return SVC()\n",
    "            "
   ]
  },
  {
   "cell_type": "code",
   "execution_count": 454,
   "id": "99933eca",
   "metadata": {},
   "outputs": [],
   "source": [
    "params_knn = {'n_neighbors':3}\n",
    "params_random_forest = {'n_estimators':51}\n",
    "params_decision_tree = {'max_depth':4, 'min_samples_split':4}\n",
    "clf_naive_bayes = get_classifier_obj(\"naive_bayes\",None)\n",
    "clf_svm = get_classifier_obj(\"svm\",None)\n",
    "clf_knn = get_classifier_obj(\"KNN\",None)\n",
    "clf_random_forest = get_classifier_obj(\"random_forest\",None)\n",
    "clf_decision_tree = get_classifier_obj(\"decision_tree\",None)\n",
    "clf_knn_with_params = get_classifier_obj(\"KNN\",params_knn)\n",
    "clf_random_forest_with_params = get_classifier_obj(\"random_forest\",params_random_forest)    \n",
    "clf_decision_tree_with_params = get_classifier_obj(\"decision_tree\",params_decision_tree)"
   ]
  },
  {
   "cell_type": "code",
   "execution_count": 455,
   "id": "c8fc77bc",
   "metadata": {},
   "outputs": [],
   "source": [
    "def calc_evaluation_val(eval_metric, y_test, y_predicted):\n",
    "    ###\n",
    "\n",
    "    if eval_metric == \"accuracy\":\n",
    "        return metrics.accuracy_score(y_test, y_predicted)\n",
    "    \n",
    "    elif eval_metric == \"precision\":\n",
    "        return metrics.precision_score(y_test, y_predicted)\n",
    "    \n",
    "    elif eval_metric == \"recall\":\n",
    "        return metrics.recall_score(y_test, y_predicted,average='micro')\n",
    "    \n",
    "    elif eval_metric == \"f1\":\n",
    "        return metrics.f1_score(y_test, y_predicted)\n",
    "    \n",
    "    else : #confusion_matrix\n",
    "        return confusion_matrix(y_test, y_predicted)\n",
    "    "
   ]
  },
  {
   "cell_type": "code",
   "execution_count": 456,
   "id": "5bec42aa",
   "metadata": {},
   "outputs": [],
   "source": [
    "y_test = pd.Series([1,0,1,0,1,0,1,0,1,0])\n",
    "y_predicted = pd.Series([1,1,1,1,1,1,1,0,0,0])\n",
    "accuracy_val = calc_evaluation_val(\"accuracy\", y_test, y_predicted)\n",
    "precision_val = calc_evaluation_val(\"precision\", y_test, y_predicted)\n",
    "recall_val = calc_evaluation_val(\"recall\", y_test, y_predicted)\n",
    "f1_val = calc_evaluation_val(\"f1\", y_test, y_predicted)\n",
    "confusion_matrix_val = calc_evaluation_val(\"confusion_matrix\", y_test, y_predicted)"
   ]
  },
  {
   "cell_type": "code",
   "execution_count": 457,
   "id": "1b76ebc7",
   "metadata": {},
   "outputs": [
    {
     "name": "stdout",
     "output_type": "stream",
     "text": [
      "0.6 0.5714285714285714 0.6 0.6666666666666666\n"
     ]
    }
   ],
   "source": [
    "print(accuracy_val , precision_val , recall_val , f1_val)"
   ]
  },
  {
   "cell_type": "code",
   "execution_count": 458,
   "id": "39917f8a",
   "metadata": {},
   "outputs": [],
   "source": [
    "def find_best_k_for_KNN(X_train, y_train):\n",
    "    ###\n",
    "    knn = KNeighborsClassifier()\n",
    "    parameters = {'n_neighbors':[3,7,9,11] }\n",
    "    clf = GridSearchCV(knn, parameters,scoring=make_scorer(metrics.f1_score, greater_is_better=True))\n",
    "    clf.fit(X_train, y_train)\n",
    "    return clf.best_params_['n_neighbors'] , clf.best_score_\n"
   ]
  },
  {
   "cell_type": "code",
   "execution_count": 459,
   "id": "00c8bcb5",
   "metadata": {},
   "outputs": [
    {
     "name": "stdout",
     "output_type": "stream",
     "text": [
      "3 0.31170326124383346\n"
     ]
    }
   ],
   "source": [
    "test_ratio, rand_state = 0.2, 42\n",
    "category_col_name = 'rating'\n",
    "dataset\n",
    "X_train, X_test, y_train, y_test = split_to_train_and_test(dataset, category_col_name, test_ratio, rand_state)\n",
    "best_K, best_f1_KNN_params = find_best_k_for_KNN(X_train, y_train)\n",
    "print(best_K, best_f1_KNN_params)"
   ]
  },
  {
   "cell_type": "code",
   "execution_count": 460,
   "id": "1ee0ea7a",
   "metadata": {},
   "outputs": [
    {
     "name": "stdout",
     "output_type": "stream",
     "text": [
      "3 0.31170326124383346\n"
     ]
    }
   ],
   "source": [
    "print(best_K, best_f1_KNN_params)"
   ]
  },
  {
   "cell_type": "code",
   "execution_count": 461,
   "id": "97175f86",
   "metadata": {},
   "outputs": [],
   "source": [
    "def find_best_decision_tree_params(X_train, y_train):\n",
    "    parameters = {'max_depth':[2,4,6],\"min_samples_split\":[5,10,20]}\n",
    "    dtree = tree.DecisionTreeClassifier()\n",
    "    clf = GridSearchCV(dtree, parameters, scoring=make_scorer(metrics.f1_score, greater_is_better=True))\n",
    "    clf.fit(X_train, y_train)\n",
    "    best_max_depth = clf.best_params_['max_depth']\n",
    "    best_min_samples_split = clf.best_params_[\"min_samples_split\"]\n",
    "    best_f1_val = clf.best_score_\n",
    "    return best_max_depth, best_min_samples_split, best_f1_val"
   ]
  },
  {
   "cell_type": "code",
   "execution_count": 462,
   "id": "a421881c",
   "metadata": {},
   "outputs": [],
   "source": [
    "\n",
    "X_train, X_test, y_train, y_test = split_to_train_and_test(dataset, category_col_name, test_ratio, rand_state)\n",
    "best_max_dep, best_min_smpl_splt, best_f1_DT_params = find_best_decision_tree_params(X_train, y_train)\n",
    "\n"
   ]
  },
  {
   "cell_type": "code",
   "execution_count": 463,
   "id": "9e83015e",
   "metadata": {},
   "outputs": [
    {
     "name": "stdout",
     "output_type": "stream",
     "text": [
      "6 5 0.6430970772147243\n"
     ]
    }
   ],
   "source": [
    "print(best_max_dep, best_min_smpl_splt, best_f1_DT_params)"
   ]
  },
  {
   "cell_type": "code",
   "execution_count": 464,
   "id": "dc7043e4",
   "metadata": {},
   "outputs": [],
   "source": [
    "def find_best_random_forest_num_estimators(X_train, y_train):\n",
    "    parameters = {'n_estimators':[11,51,71]}\n",
    "    rf = RandomForestClassifier()\n",
    "    clf = GridSearchCV(rf, parameters, scoring=make_scorer(metrics.f1_score, greater_is_better=True))\n",
    "    clf.fit(X_train, y_train)\n",
    "    best_num_estimators = clf.best_params_['n_estimators']\n",
    "    best_f1_val = clf.best_score_\n",
    "    return best_num_estimators, best_f1_val\n"
   ]
  },
  {
   "cell_type": "code",
   "execution_count": 465,
   "id": "c4364899",
   "metadata": {},
   "outputs": [],
   "source": [
    "# 3.c.\n",
    "# ------------>>>>>>>> RUN THIS CODE CELL <<<<<<<<------------\n",
    "# --------  (run after implementation)\n",
    "# === CODE TYPE: SELF TESTING\n",
    "# Use the following code to test your implementation:\n",
    "X_train, X_test, y_train, y_test = split_to_train_and_test(dataset, category_col_name, test_ratio, rand_state)\n",
    "best_n_estimators, best_f1_RF_params = find_best_random_forest_num_estimators(X_train, y_train)\n",
    "\n"
   ]
  },
  {
   "cell_type": "code",
   "execution_count": 466,
   "id": "b09640ae",
   "metadata": {},
   "outputs": [
    {
     "name": "stdout",
     "output_type": "stream",
     "text": [
      "11 0.6978468368732297\n"
     ]
    }
   ],
   "source": [
    "print(best_n_estimators, best_f1_RF_params )"
   ]
  },
  {
   "cell_type": "code",
   "execution_count": 467,
   "id": "4781c7dd",
   "metadata": {},
   "outputs": [],
   "source": [
    "def find_best_model(X_train, y_train, max_depth_val, min_samples_split_val):\n",
    "    parameters = {'max_depth':max_depth_val,\"min_samples_split\":min_samples_split_val}\n",
    "    best_clf = None\n",
    "    best_recall_val = -1\n",
    "    algos = [\"svm\",\"naive_bayes\",\"decision_tree\"]\n",
    "    \n",
    "    for alg in algos:\n",
    "        clf = get_classifier_obj(alg,parameters)\n",
    "        clf.fit(X_train, y_train)\n",
    "        y_pred_train = clf.predict(X_train)\n",
    "        recall = calc_evaluation_val('recall',y_train,y_pred_train)\n",
    "        print(clf, recall)\n",
    "        if recall > best_recall_val:\n",
    "            best_recall_val = recall\n",
    "            best_clf = clf\n",
    "    \n",
    "    return best_clf, best_recall_val"
   ]
  },
  {
   "cell_type": "code",
   "execution_count": 468,
   "id": "d957917b",
   "metadata": {},
   "outputs": [
    {
     "name": "stdout",
     "output_type": "stream",
     "text": [
      "SVC() 0.7675896504766228\n",
      "GaussianNB() 0.8370403994552883\n",
      "DecisionTreeClassifier(max_depth=4, min_samples_split=5) 0.8697231048570132\n"
     ]
    }
   ],
   "source": [
    "# 4.\n",
    "# ------------>>>>>>>> RUN THIS CODE CELL <<<<<<<<------------\n",
    "# --------  (run after implementation)\n",
    "# === CODE TYPE: SELF TESTING\n",
    "# Use the following code to test your implementation:\n",
    "test_ratio, rand_state = 0.2, 42\n",
    "category_col_name = 'rating'\n",
    "max_dep=4\n",
    "min_smpl_splt=5\n",
    "dataset\n",
    "X_train, X_test, y_train, y_test = split_to_train_and_test(dataset, category_col_name, test_ratio, rand_state)\n",
    "best_clf, best_recall_val=find_best_model(X_train, y_train, max_dep, min_smpl_splt)\n",
    "# --- add additional code to check your code if needed:\n",
    "###\n",
    "### YOUR CODE HERE\n",
    "###\n"
   ]
  },
  {
   "cell_type": "code",
   "execution_count": 469,
   "id": "3be27f75",
   "metadata": {},
   "outputs": [
    {
     "name": "stdout",
     "output_type": "stream",
     "text": [
      "DecisionTreeClassifier(max_depth=4, min_samples_split=5) 0.8697231048570132\n"
     ]
    }
   ],
   "source": [
    "print(best_clf, best_recall_val)"
   ]
  }
 ],
 "metadata": {
  "kernelspec": {
   "display_name": "Python 3 (ipykernel)",
   "language": "python",
   "name": "python3"
  },
  "language_info": {
   "codemirror_mode": {
    "name": "ipython",
    "version": 3
   },
   "file_extension": ".py",
   "mimetype": "text/x-python",
   "name": "python",
   "nbconvert_exporter": "python",
   "pygments_lexer": "ipython3",
   "version": "3.9.7"
  }
 },
 "nbformat": 4,
 "nbformat_minor": 5
}
